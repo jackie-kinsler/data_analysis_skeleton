{
 "cells": [
  {
   "cell_type": "code",
   "execution_count": 189,
   "id": "aeb84a64",
   "metadata": {},
   "outputs": [],
   "source": [
    "import matplotlib.pyplot as plt\n",
    "import numpy as np \n",
    "import pandas as pd"
   ]
  },
  {
   "cell_type": "markdown",
   "id": "7cb1f233",
   "metadata": {},
   "source": [
    "# Identifying which Holiday brings in the Most Revenue \n",
    "\n",
    "This project is broken into 5 steps: \n",
    "1. [Problem Definition](#problem_definition)\n",
    "2. [Gathering Data / Information](#get_data)\n",
    "3. [Data Cleaning / Imputation](#clean)\n",
    "4. [Exploratory Analysis](#explore)\n",
    "6. [Interpret Results](#interpret)"
   ]
  },
  {
   "cell_type": "markdown",
   "id": "c2efacbd",
   "metadata": {},
   "source": [
    "# 1. Problem definition <a id='problem_definition'></a>"
   ]
  },
  {
   "cell_type": "markdown",
   "id": "2dfc1f4d",
   "metadata": {},
   "source": [
    "This is a practice case from [here](https://www.youtube.com/watch?v=WskJOx_ZQys&t=15s).   \n",
    "Hoilday info: [here](https://www.kaggle.com/datasets/donnetew/us-holiday-dates-2004-2021)  \n",
    "Order info: [here](https://raw.githubusercontent.com/Gaelim/google-data-stuido/main/Ecommerce_Data.csv)  \n",
    "\n",
    "\n",
    "**GOAL**: Identify which holiday brings in the most money.  \n",
    "Outcome: Adjust marketing dollars. \n",
    "\n",
    "**OUTCOMEs**: \n",
    "- Thanksgiving brings in the largest dollar amount in orders. \n",
    "- Thanksgiving has the highest order count. \n",
    "- 4th of July and Valentines day have the highest mean order values "
   ]
  },
  {
   "cell_type": "markdown",
   "id": "b7597728",
   "metadata": {},
   "source": [
    "# 2. Gathering Data / Information <a id='get_data'></a>"
   ]
  },
  {
   "cell_type": "code",
   "execution_count": 192,
   "id": "062ea029",
   "metadata": {},
   "outputs": [],
   "source": [
    "df = pd.read_csv('/Users/jackiekinsler/projects/data_analysis_skeleton/practice_1.csv', sep=\",\")\n",
    "holiday = pd.read_csv('/Users/jackiekinsler/projects/data_analysis_skeleton/US_Holiday_Dates_2004-2021.csv', sep=\",\")"
   ]
  },
  {
   "cell_type": "markdown",
   "id": "e0474e8b",
   "metadata": {},
   "source": [
    "### Clean the Holiday Data"
   ]
  },
  {
   "cell_type": "code",
   "execution_count": 193,
   "id": "c6b29bf6",
   "metadata": {},
   "outputs": [
    {
     "data": {
      "text/html": [
       "<div>\n",
       "<style scoped>\n",
       "    .dataframe tbody tr th:only-of-type {\n",
       "        vertical-align: middle;\n",
       "    }\n",
       "\n",
       "    .dataframe tbody tr th {\n",
       "        vertical-align: top;\n",
       "    }\n",
       "\n",
       "    .dataframe thead th {\n",
       "        text-align: right;\n",
       "    }\n",
       "</style>\n",
       "<table border=\"1\" class=\"dataframe\">\n",
       "  <thead>\n",
       "    <tr style=\"text-align: right;\">\n",
       "      <th></th>\n",
       "      <th>Date</th>\n",
       "      <th>Holiday</th>\n",
       "      <th>WeekDay</th>\n",
       "      <th>Month</th>\n",
       "      <th>Day</th>\n",
       "      <th>Year</th>\n",
       "    </tr>\n",
       "  </thead>\n",
       "  <tbody>\n",
       "    <tr>\n",
       "      <th>0</th>\n",
       "      <td>2004-07-04</td>\n",
       "      <td>4th of July</td>\n",
       "      <td>Sunday</td>\n",
       "      <td>7</td>\n",
       "      <td>4</td>\n",
       "      <td>2004</td>\n",
       "    </tr>\n",
       "    <tr>\n",
       "      <th>1</th>\n",
       "      <td>2005-07-04</td>\n",
       "      <td>4th of July</td>\n",
       "      <td>Monday</td>\n",
       "      <td>7</td>\n",
       "      <td>4</td>\n",
       "      <td>2005</td>\n",
       "    </tr>\n",
       "    <tr>\n",
       "      <th>2</th>\n",
       "      <td>2006-07-04</td>\n",
       "      <td>4th of July</td>\n",
       "      <td>Tuesday</td>\n",
       "      <td>7</td>\n",
       "      <td>4</td>\n",
       "      <td>2006</td>\n",
       "    </tr>\n",
       "    <tr>\n",
       "      <th>3</th>\n",
       "      <td>2007-07-04</td>\n",
       "      <td>4th of July</td>\n",
       "      <td>Wednesday</td>\n",
       "      <td>7</td>\n",
       "      <td>4</td>\n",
       "      <td>2007</td>\n",
       "    </tr>\n",
       "    <tr>\n",
       "      <th>4</th>\n",
       "      <td>2008-07-04</td>\n",
       "      <td>4th of July</td>\n",
       "      <td>Friday</td>\n",
       "      <td>7</td>\n",
       "      <td>4</td>\n",
       "      <td>2008</td>\n",
       "    </tr>\n",
       "  </tbody>\n",
       "</table>\n",
       "</div>"
      ],
      "text/plain": [
       "         Date      Holiday    WeekDay  Month  Day  Year\n",
       "0  2004-07-04  4th of July     Sunday      7    4  2004\n",
       "1  2005-07-04  4th of July     Monday      7    4  2005\n",
       "2  2006-07-04  4th of July    Tuesday      7    4  2006\n",
       "3  2007-07-04  4th of July  Wednesday      7    4  2007\n",
       "4  2008-07-04  4th of July     Friday      7    4  2008"
      ]
     },
     "execution_count": 193,
     "metadata": {},
     "output_type": "execute_result"
    }
   ],
   "source": [
    "holiday.head()"
   ]
  },
  {
   "cell_type": "code",
   "execution_count": 194,
   "id": "de5591ce",
   "metadata": {},
   "outputs": [
    {
     "name": "stdout",
     "output_type": "stream",
     "text": [
      "<class 'pandas.core.frame.DataFrame'>\n",
      "RangeIndex: 342 entries, 0 to 341\n",
      "Data columns (total 3 columns):\n",
      " #   Column   Non-Null Count  Dtype \n",
      "---  ------   --------------  ----- \n",
      " 0   Date     342 non-null    object\n",
      " 1   Holiday  342 non-null    object\n",
      " 2   WeekDay  342 non-null    object\n",
      "dtypes: object(3)\n",
      "memory usage: 8.1+ KB\n"
     ]
    }
   ],
   "source": [
    "holiday.drop(columns=['Month', 'Day', 'Year'], inplace=True)\n",
    "holiday.info()"
   ]
  },
  {
   "cell_type": "code",
   "execution_count": 195,
   "id": "3622eb8c",
   "metadata": {},
   "outputs": [],
   "source": [
    "# Make the date column into a datetime\n",
    "holiday[\"Date\"] = pd.to_datetime(holiday[\"Date\"])"
   ]
  },
  {
   "cell_type": "code",
   "execution_count": 196,
   "id": "bc738908",
   "metadata": {},
   "outputs": [
    {
     "name": "stdout",
     "output_type": "stream",
     "text": [
      "<class 'pandas.core.frame.DataFrame'>\n",
      "RangeIndex: 342 entries, 0 to 341\n",
      "Data columns (total 3 columns):\n",
      " #   Column   Non-Null Count  Dtype         \n",
      "---  ------   --------------  -----         \n",
      " 0   Date     342 non-null    datetime64[ns]\n",
      " 1   Holiday  342 non-null    object        \n",
      " 2   WeekDay  342 non-null    object        \n",
      "dtypes: datetime64[ns](1), object(2)\n",
      "memory usage: 8.1+ KB\n"
     ]
    }
   ],
   "source": [
    "holiday.info()"
   ]
  },
  {
   "cell_type": "code",
   "execution_count": 197,
   "id": "5c728166",
   "metadata": {},
   "outputs": [
    {
     "data": {
      "text/html": [
       "<div>\n",
       "<style scoped>\n",
       "    .dataframe tbody tr th:only-of-type {\n",
       "        vertical-align: middle;\n",
       "    }\n",
       "\n",
       "    .dataframe tbody tr th {\n",
       "        vertical-align: top;\n",
       "    }\n",
       "\n",
       "    .dataframe thead th {\n",
       "        text-align: right;\n",
       "    }\n",
       "</style>\n",
       "<table border=\"1\" class=\"dataframe\">\n",
       "  <thead>\n",
       "    <tr style=\"text-align: right;\">\n",
       "      <th></th>\n",
       "      <th>InvoiceNo</th>\n",
       "      <th>StockCode</th>\n",
       "      <th>Description</th>\n",
       "      <th>Quantity</th>\n",
       "      <th>UnitPrice</th>\n",
       "      <th>CustomerID</th>\n",
       "      <th>Country</th>\n",
       "      <th>Date</th>\n",
       "      <th>Hour</th>\n",
       "    </tr>\n",
       "  </thead>\n",
       "  <tbody>\n",
       "    <tr>\n",
       "      <th>0</th>\n",
       "      <td>574477</td>\n",
       "      <td>22591</td>\n",
       "      <td>CARDHOLDER GINGHAM CHRISTMAS TREE</td>\n",
       "      <td>1</td>\n",
       "      <td>3.25</td>\n",
       "      <td>15453</td>\n",
       "      <td>United Kingdom</td>\n",
       "      <td>11/4/11</td>\n",
       "      <td>12</td>\n",
       "    </tr>\n",
       "    <tr>\n",
       "      <th>1</th>\n",
       "      <td>570275</td>\n",
       "      <td>23541</td>\n",
       "      <td>WALL ART CLASSIC PUDDINGS</td>\n",
       "      <td>12</td>\n",
       "      <td>7.45</td>\n",
       "      <td>13098</td>\n",
       "      <td>United Kingdom</td>\n",
       "      <td>10/10/11</td>\n",
       "      <td>10</td>\n",
       "    </tr>\n",
       "  </tbody>\n",
       "</table>\n",
       "</div>"
      ],
      "text/plain": [
       "  InvoiceNo StockCode                        Description  Quantity  UnitPrice  \\\n",
       "0    574477     22591  CARDHOLDER GINGHAM CHRISTMAS TREE         1       3.25   \n",
       "1    570275     23541         WALL ART CLASSIC PUDDINGS         12       7.45   \n",
       "\n",
       "   CustomerID         Country      Date  Hour  \n",
       "0       15453  United Kingdom   11/4/11    12  \n",
       "1       13098  United Kingdom  10/10/11    10  "
      ]
     },
     "execution_count": 197,
     "metadata": {},
     "output_type": "execute_result"
    }
   ],
   "source": [
    "df.drop(columns=['Unnamed: 0'], inplace=True)\n",
    "df.head(2)"
   ]
  },
  {
   "cell_type": "code",
   "execution_count": 123,
   "id": "d8287b4c",
   "metadata": {},
   "outputs": [
    {
     "data": {
      "text/plain": [
       "(81601, 9)"
      ]
     },
     "execution_count": 123,
     "metadata": {},
     "output_type": "execute_result"
    }
   ],
   "source": [
    "df.shape"
   ]
  },
  {
   "cell_type": "markdown",
   "id": "2d867dbc",
   "metadata": {},
   "source": [
    "81601 rows, 10 columns. "
   ]
  },
  {
   "cell_type": "code",
   "execution_count": 124,
   "id": "9875c789",
   "metadata": {},
   "outputs": [
    {
     "data": {
      "text/html": [
       "<div>\n",
       "<style scoped>\n",
       "    .dataframe tbody tr th:only-of-type {\n",
       "        vertical-align: middle;\n",
       "    }\n",
       "\n",
       "    .dataframe tbody tr th {\n",
       "        vertical-align: top;\n",
       "    }\n",
       "\n",
       "    .dataframe thead th {\n",
       "        text-align: right;\n",
       "    }\n",
       "</style>\n",
       "<table border=\"1\" class=\"dataframe\">\n",
       "  <thead>\n",
       "    <tr style=\"text-align: right;\">\n",
       "      <th></th>\n",
       "      <th>Quantity</th>\n",
       "      <th>UnitPrice</th>\n",
       "      <th>CustomerID</th>\n",
       "      <th>Hour</th>\n",
       "    </tr>\n",
       "  </thead>\n",
       "  <tbody>\n",
       "    <tr>\n",
       "      <th>count</th>\n",
       "      <td>81601.000000</td>\n",
       "      <td>81601.000000</td>\n",
       "      <td>81601.000000</td>\n",
       "      <td>81601.000000</td>\n",
       "    </tr>\n",
       "    <tr>\n",
       "      <th>mean</th>\n",
       "      <td>11.965736</td>\n",
       "      <td>3.168721</td>\n",
       "      <td>15283.816215</td>\n",
       "      <td>12.729783</td>\n",
       "    </tr>\n",
       "    <tr>\n",
       "      <th>std</th>\n",
       "      <td>45.782018</td>\n",
       "      <td>18.731668</td>\n",
       "      <td>1713.292081</td>\n",
       "      <td>2.288777</td>\n",
       "    </tr>\n",
       "    <tr>\n",
       "      <th>min</th>\n",
       "      <td>-3114.000000</td>\n",
       "      <td>0.000000</td>\n",
       "      <td>12347.000000</td>\n",
       "      <td>6.000000</td>\n",
       "    </tr>\n",
       "    <tr>\n",
       "      <th>25%</th>\n",
       "      <td>2.000000</td>\n",
       "      <td>1.250000</td>\n",
       "      <td>13949.000000</td>\n",
       "      <td>11.000000</td>\n",
       "    </tr>\n",
       "    <tr>\n",
       "      <th>50%</th>\n",
       "      <td>5.000000</td>\n",
       "      <td>1.950000</td>\n",
       "      <td>15144.000000</td>\n",
       "      <td>13.000000</td>\n",
       "    </tr>\n",
       "    <tr>\n",
       "      <th>75%</th>\n",
       "      <td>12.000000</td>\n",
       "      <td>3.750000</td>\n",
       "      <td>16790.000000</td>\n",
       "      <td>14.000000</td>\n",
       "    </tr>\n",
       "    <tr>\n",
       "      <th>max</th>\n",
       "      <td>3186.000000</td>\n",
       "      <td>4287.630000</td>\n",
       "      <td>18287.000000</td>\n",
       "      <td>20.000000</td>\n",
       "    </tr>\n",
       "  </tbody>\n",
       "</table>\n",
       "</div>"
      ],
      "text/plain": [
       "           Quantity     UnitPrice    CustomerID          Hour\n",
       "count  81601.000000  81601.000000  81601.000000  81601.000000\n",
       "mean      11.965736      3.168721  15283.816215     12.729783\n",
       "std       45.782018     18.731668   1713.292081      2.288777\n",
       "min    -3114.000000      0.000000  12347.000000      6.000000\n",
       "25%        2.000000      1.250000  13949.000000     11.000000\n",
       "50%        5.000000      1.950000  15144.000000     13.000000\n",
       "75%       12.000000      3.750000  16790.000000     14.000000\n",
       "max     3186.000000   4287.630000  18287.000000     20.000000"
      ]
     },
     "execution_count": 124,
     "metadata": {},
     "output_type": "execute_result"
    }
   ],
   "source": [
    "df.describe()"
   ]
  },
  {
   "cell_type": "markdown",
   "id": "86049ce7",
   "metadata": {},
   "source": [
    "From the above descriptive statistics, it is determined: \n",
    "- There must be an outlier in the quantity field, as the min is -3114 (negative quantity doesn't make sense) "
   ]
  },
  {
   "cell_type": "code",
   "execution_count": 125,
   "id": "9e107550",
   "metadata": {
    "scrolled": true
   },
   "outputs": [
    {
     "data": {
      "text/plain": [
       "17841    1596\n",
       "14911    1195\n",
       "14096    1021\n",
       "12748     957\n",
       "14606     560\n",
       "         ... \n",
       "17382       1\n",
       "15516       1\n",
       "13513       1\n",
       "15180       1\n",
       "12522       1\n",
       "Name: CustomerID, Length: 4111, dtype: int64"
      ]
     },
     "execution_count": 125,
     "metadata": {},
     "output_type": "execute_result"
    }
   ],
   "source": [
    "df.CustomerID.value_counts()"
   ]
  },
  {
   "cell_type": "markdown",
   "id": "9ae2e084",
   "metadata": {},
   "source": [
    "From above, it is determined there are 4111 unique customers. "
   ]
  },
  {
   "cell_type": "markdown",
   "id": "3baf75f8",
   "metadata": {},
   "source": [
    "# 3. Data Cleaning / Imputation <a id='clean'></a>\n"
   ]
  },
  {
   "cell_type": "markdown",
   "id": "ed5deb2b",
   "metadata": {},
   "source": [
    "**Data cleaning** \n",
    "Check for:\n",
    "- X Duplicates `df.duplicated()`\n",
    "- X Data types `df.info()`\n",
    "- X Meaningful column names \n",
    "- X Outliers "
   ]
  },
  {
   "cell_type": "code",
   "execution_count": 126,
   "id": "23da9377",
   "metadata": {
    "scrolled": false
   },
   "outputs": [
    {
     "name": "stdout",
     "output_type": "stream",
     "text": [
      "<class 'pandas.core.frame.DataFrame'>\n",
      "RangeIndex: 81601 entries, 0 to 81600\n",
      "Data columns (total 9 columns):\n",
      " #   Column       Non-Null Count  Dtype  \n",
      "---  ------       --------------  -----  \n",
      " 0   InvoiceNo    81601 non-null  object \n",
      " 1   StockCode    81601 non-null  object \n",
      " 2   Description  81601 non-null  object \n",
      " 3   Quantity     81601 non-null  int64  \n",
      " 4   UnitPrice    81601 non-null  float64\n",
      " 5   CustomerID   81601 non-null  int64  \n",
      " 6   Country      81601 non-null  object \n",
      " 7   Date         81601 non-null  object \n",
      " 8   Hour         81601 non-null  int64  \n",
      "dtypes: float64(1), int64(3), object(5)\n",
      "memory usage: 5.6+ MB\n"
     ]
    }
   ],
   "source": [
    "df.info()"
   ]
  },
  {
   "cell_type": "markdown",
   "id": "f06d4003",
   "metadata": {},
   "source": [
    "From above, it is determined there are no `null` values in any of the columns.\n",
    "\n",
    "For datatypes: \n",
    "- `InvoiceNo`, `StockCode`, `Description` and `Country` should be `string`\n",
    "- `Date` should be a `datetime`\n",
    "- `Quantity`, `UnitPrice`, `Hour`, and `CustomerID` have appropriate datatypes "
   ]
  },
  {
   "cell_type": "code",
   "execution_count": 127,
   "id": "c74dc39a",
   "metadata": {},
   "outputs": [],
   "source": [
    "df[\"Date\"] = pd.to_datetime(df[\"Date\"])\n",
    "df[\"Description\"] = df[\"Description\"].astype(\"string\")\n",
    "df[\"Country\"] = df[\"Country\"].astype(\"string\")\n",
    "df[\"InvoiceNo\"] = df[\"InvoiceNo\"].astype(\"string\")\n",
    "df[\"StockCode\"] = df[\"StockCode\"].astype(\"string\")"
   ]
  },
  {
   "cell_type": "code",
   "execution_count": 128,
   "id": "61fd95a1",
   "metadata": {
    "scrolled": false
   },
   "outputs": [
    {
     "name": "stdout",
     "output_type": "stream",
     "text": [
      "<class 'pandas.core.frame.DataFrame'>\n",
      "RangeIndex: 81601 entries, 0 to 81600\n",
      "Data columns (total 9 columns):\n",
      " #   Column       Non-Null Count  Dtype         \n",
      "---  ------       --------------  -----         \n",
      " 0   InvoiceNo    81601 non-null  string        \n",
      " 1   StockCode    81601 non-null  string        \n",
      " 2   Description  81601 non-null  string        \n",
      " 3   Quantity     81601 non-null  int64         \n",
      " 4   UnitPrice    81601 non-null  float64       \n",
      " 5   CustomerID   81601 non-null  int64         \n",
      " 6   Country      81601 non-null  string        \n",
      " 7   Date         81601 non-null  datetime64[ns]\n",
      " 8   Hour         81601 non-null  int64         \n",
      "dtypes: datetime64[ns](1), float64(1), int64(3), string(4)\n",
      "memory usage: 5.6 MB\n"
     ]
    }
   ],
   "source": [
    "df.info()"
   ]
  },
  {
   "cell_type": "markdown",
   "id": "2ccf76f3",
   "metadata": {},
   "source": [
    "Looks good!"
   ]
  },
  {
   "cell_type": "markdown",
   "id": "fd65e22f",
   "metadata": {},
   "source": [
    "Now, check for duplicates. "
   ]
  },
  {
   "cell_type": "code",
   "execution_count": 129,
   "id": "e7e24253",
   "metadata": {},
   "outputs": [],
   "source": [
    "duplicateRows = df[df.duplicated()]"
   ]
  },
  {
   "cell_type": "markdown",
   "id": "e1292c63",
   "metadata": {},
   "source": [
    "It appears there are no duplicates in this dataframe. "
   ]
  },
  {
   "cell_type": "markdown",
   "id": "4a8ca645",
   "metadata": {},
   "source": [
    "Now, graphically check for outliers: "
   ]
  },
  {
   "cell_type": "code",
   "execution_count": 130,
   "id": "793040d9",
   "metadata": {},
   "outputs": [
    {
     "name": "stdout",
     "output_type": "stream",
     "text": [
      "<class 'pandas.core.frame.DataFrame'>\n",
      "RangeIndex: 81601 entries, 0 to 81600\n",
      "Data columns (total 9 columns):\n",
      " #   Column       Non-Null Count  Dtype         \n",
      "---  ------       --------------  -----         \n",
      " 0   InvoiceNo    81601 non-null  string        \n",
      " 1   StockCode    81601 non-null  string        \n",
      " 2   Description  81601 non-null  string        \n",
      " 3   Quantity     81601 non-null  int64         \n",
      " 4   UnitPrice    81601 non-null  float64       \n",
      " 5   CustomerID   81601 non-null  int64         \n",
      " 6   Country      81601 non-null  string        \n",
      " 7   Date         81601 non-null  datetime64[ns]\n",
      " 8   Hour         81601 non-null  int64         \n",
      "dtypes: datetime64[ns](1), float64(1), int64(3), string(4)\n",
      "memory usage: 5.6 MB\n"
     ]
    }
   ],
   "source": [
    "df.info()"
   ]
  },
  {
   "cell_type": "code",
   "execution_count": 131,
   "id": "3a1cf43c",
   "metadata": {},
   "outputs": [
    {
     "data": {
      "image/png": "[encoded data removed]",
      "text/plain": [
       "<Figure size 640x480 with 2 Axes>"
      ]
     },
     "metadata": {},
     "output_type": "display_data"
    }
   ],
   "source": [
    "df[['Quantity','UnitPrice']].plot(subplots=True)\n",
    "\n",
    "plt.tight_layout()\n",
    "plt.show()"
   ]
  },
  {
   "cell_type": "markdown",
   "id": "ea90c957",
   "metadata": {},
   "source": [
    "It appears there are some issues: \n",
    "- Neither quantity not unit price should be negative. \n",
    "- The outlier unit price at nearly $4000 should be investigated "
   ]
  },
  {
   "cell_type": "code",
   "execution_count": 145,
   "id": "20502419",
   "metadata": {
    "scrolled": true
   },
   "outputs": [
    {
     "data": {
      "text/html": [
       "<div>\n",
       "<style scoped>\n",
       "    .dataframe tbody tr th:only-of-type {\n",
       "        vertical-align: middle;\n",
       "    }\n",
       "\n",
       "    .dataframe tbody tr th {\n",
       "        vertical-align: top;\n",
       "    }\n",
       "\n",
       "    .dataframe thead th {\n",
       "        text-align: right;\n",
       "    }\n",
       "</style>\n",
       "<table border=\"1\" class=\"dataframe\">\n",
       "  <thead>\n",
       "    <tr style=\"text-align: right;\">\n",
       "      <th></th>\n",
       "      <th>InvoiceNo</th>\n",
       "      <th>StockCode</th>\n",
       "      <th>Description</th>\n",
       "      <th>Quantity</th>\n",
       "      <th>UnitPrice</th>\n",
       "      <th>CustomerID</th>\n",
       "      <th>Country</th>\n",
       "      <th>Date</th>\n",
       "      <th>Hour</th>\n",
       "    </tr>\n",
       "  </thead>\n",
       "  <tbody>\n",
       "  </tbody>\n",
       "</table>\n",
       "</div>"
      ],
      "text/plain": [
       "Empty DataFrame\n",
       "Columns: [InvoiceNo, StockCode, Description, Quantity, UnitPrice, CustomerID, Country, Date, Hour]\n",
       "Index: []"
      ]
     },
     "execution_count": 145,
     "metadata": {},
     "output_type": "execute_result"
    }
   ],
   "source": [
    "df.loc[df['UnitPrice'] > 4000]"
   ]
  },
  {
   "cell_type": "markdown",
   "id": "7189f1e7",
   "metadata": {},
   "source": [
    "There are 90 rows with the description \"Manual\", with a mean price of $92. \n",
    "\n",
    "Therefore, it is determined the \"Manual\" priced $4287.63 is an outlier that should be removed (index value 12104)."
   ]
  },
  {
   "cell_type": "code",
   "execution_count": 133,
   "id": "5d898005",
   "metadata": {
    "scrolled": false
   },
   "outputs": [],
   "source": [
    "# Drop row at index 12104\n",
    "df.drop([12104], inplace=True)"
   ]
  },
  {
   "cell_type": "code",
   "execution_count": 134,
   "id": "ab1fa380",
   "metadata": {},
   "outputs": [],
   "source": [
    "# Drop any values where the Quantity is negative. \n",
    "index_neg = df[ (df['Quantity'] < 0)].index\n",
    "df.drop(index_neg , inplace=True)"
   ]
  },
  {
   "cell_type": "code",
   "execution_count": 142,
   "id": "0aa09906",
   "metadata": {},
   "outputs": [
    {
     "data": {
      "image/png": "[encoded data removed]",
      "text/plain": [
       "<Figure size 640x480 with 2 Axes>"
      ]
     },
     "metadata": {},
     "output_type": "display_data"
    }
   ],
   "source": [
    "df[['Quantity','UnitPrice']].plot(subplots=True)\n",
    "\n",
    "plt.tight_layout()\n",
    "plt.show()"
   ]
  },
  {
   "cell_type": "markdown",
   "id": "a88a19c1",
   "metadata": {},
   "source": [
    "Data imputation steps: \n",
    "- X Check for nulls\n",
    "- X Check for missing data \n",
    "- X Impute if possible / necessary --> No missing data. "
   ]
  },
  {
   "cell_type": "markdown",
   "id": "55467036",
   "metadata": {},
   "source": [
    "### Join the Hoiday and Purchase Tables \n"
   ]
  },
  {
   "cell_type": "code",
   "execution_count": 135,
   "id": "a256867d",
   "metadata": {
    "scrolled": true
   },
   "outputs": [
    {
     "data": {
      "text/html": [
       "<div>\n",
       "<style scoped>\n",
       "    .dataframe tbody tr th:only-of-type {\n",
       "        vertical-align: middle;\n",
       "    }\n",
       "\n",
       "    .dataframe tbody tr th {\n",
       "        vertical-align: top;\n",
       "    }\n",
       "\n",
       "    .dataframe thead th {\n",
       "        text-align: right;\n",
       "    }\n",
       "</style>\n",
       "<table border=\"1\" class=\"dataframe\">\n",
       "  <thead>\n",
       "    <tr style=\"text-align: right;\">\n",
       "      <th></th>\n",
       "      <th>InvoiceNo</th>\n",
       "      <th>StockCode</th>\n",
       "      <th>Description</th>\n",
       "      <th>Quantity</th>\n",
       "      <th>UnitPrice</th>\n",
       "      <th>CustomerID</th>\n",
       "      <th>Country</th>\n",
       "      <th>Date</th>\n",
       "      <th>Hour</th>\n",
       "      <th>Holiday</th>\n",
       "      <th>WeekDay</th>\n",
       "    </tr>\n",
       "  </thead>\n",
       "  <tbody>\n",
       "    <tr>\n",
       "      <th>0</th>\n",
       "      <td>574477</td>\n",
       "      <td>22591</td>\n",
       "      <td>CARDHOLDER GINGHAM CHRISTMAS TREE</td>\n",
       "      <td>1</td>\n",
       "      <td>3.25</td>\n",
       "      <td>15453</td>\n",
       "      <td>United Kingdom</td>\n",
       "      <td>2011-11-04</td>\n",
       "      <td>12</td>\n",
       "      <td>NaN</td>\n",
       "      <td>NaN</td>\n",
       "    </tr>\n",
       "    <tr>\n",
       "      <th>1</th>\n",
       "      <td>570275</td>\n",
       "      <td>23541</td>\n",
       "      <td>WALL ART CLASSIC PUDDINGS</td>\n",
       "      <td>12</td>\n",
       "      <td>7.45</td>\n",
       "      <td>13098</td>\n",
       "      <td>United Kingdom</td>\n",
       "      <td>2011-10-10</td>\n",
       "      <td>10</td>\n",
       "      <td>Columbus Day</td>\n",
       "      <td>Monday</td>\n",
       "    </tr>\n",
       "  </tbody>\n",
       "</table>\n",
       "</div>"
      ],
      "text/plain": [
       "  InvoiceNo StockCode                        Description  Quantity  UnitPrice  \\\n",
       "0    574477     22591  CARDHOLDER GINGHAM CHRISTMAS TREE         1       3.25   \n",
       "1    570275     23541         WALL ART CLASSIC PUDDINGS         12       7.45   \n",
       "\n",
       "   CustomerID         Country       Date  Hour       Holiday WeekDay  \n",
       "0       15453  United Kingdom 2011-11-04    12           NaN     NaN  \n",
       "1       13098  United Kingdom 2011-10-10    10  Columbus Day  Monday  "
      ]
     },
     "execution_count": 135,
     "metadata": {},
     "output_type": "execute_result"
    }
   ],
   "source": [
    "merged = df.merge(holiday, how='left', left_on='Date', right_on='Date')\n",
    "merged.head(2)"
   ]
  },
  {
   "cell_type": "code",
   "execution_count": 136,
   "id": "c99a3c04",
   "metadata": {},
   "outputs": [],
   "source": [
    "# Create an OrderTotal column\n",
    "merged['OrderTotal'] = merged['Quantity']*merged['UnitPrice']"
   ]
  },
  {
   "cell_type": "code",
   "execution_count": 137,
   "id": "e9748d36",
   "metadata": {
    "scrolled": true
   },
   "outputs": [
    {
     "data": {
      "text/html": [
       "<div>\n",
       "<style scoped>\n",
       "    .dataframe tbody tr th:only-of-type {\n",
       "        vertical-align: middle;\n",
       "    }\n",
       "\n",
       "    .dataframe tbody tr th {\n",
       "        vertical-align: top;\n",
       "    }\n",
       "\n",
       "    .dataframe thead th {\n",
       "        text-align: right;\n",
       "    }\n",
       "</style>\n",
       "<table border=\"1\" class=\"dataframe\">\n",
       "  <thead>\n",
       "    <tr style=\"text-align: right;\">\n",
       "      <th></th>\n",
       "      <th>InvoiceNo</th>\n",
       "      <th>StockCode</th>\n",
       "      <th>Description</th>\n",
       "      <th>Quantity</th>\n",
       "      <th>UnitPrice</th>\n",
       "      <th>CustomerID</th>\n",
       "      <th>Country</th>\n",
       "      <th>Date</th>\n",
       "      <th>Hour</th>\n",
       "      <th>Holiday</th>\n",
       "      <th>WeekDay</th>\n",
       "      <th>OrderTotal</th>\n",
       "      <th>is_holiday</th>\n",
       "    </tr>\n",
       "  </thead>\n",
       "  <tbody>\n",
       "    <tr>\n",
       "      <th>0</th>\n",
       "      <td>574477</td>\n",
       "      <td>22591</td>\n",
       "      <td>CARDHOLDER GINGHAM CHRISTMAS TREE</td>\n",
       "      <td>1</td>\n",
       "      <td>3.25</td>\n",
       "      <td>15453</td>\n",
       "      <td>United Kingdom</td>\n",
       "      <td>2011-11-04</td>\n",
       "      <td>12</td>\n",
       "      <td>NaN</td>\n",
       "      <td>NaN</td>\n",
       "      <td>3.25</td>\n",
       "      <td>0</td>\n",
       "    </tr>\n",
       "    <tr>\n",
       "      <th>1</th>\n",
       "      <td>570275</td>\n",
       "      <td>23541</td>\n",
       "      <td>WALL ART CLASSIC PUDDINGS</td>\n",
       "      <td>12</td>\n",
       "      <td>7.45</td>\n",
       "      <td>13098</td>\n",
       "      <td>United Kingdom</td>\n",
       "      <td>2011-10-10</td>\n",
       "      <td>10</td>\n",
       "      <td>Columbus Day</td>\n",
       "      <td>Monday</td>\n",
       "      <td>89.40</td>\n",
       "      <td>1</td>\n",
       "    </tr>\n",
       "    <tr>\n",
       "      <th>2</th>\n",
       "      <td>566482</td>\n",
       "      <td>22508</td>\n",
       "      <td>DOORSTOP RETROSPOT HEART</td>\n",
       "      <td>12</td>\n",
       "      <td>3.75</td>\n",
       "      <td>16609</td>\n",
       "      <td>United Kingdom</td>\n",
       "      <td>2011-09-13</td>\n",
       "      <td>9</td>\n",
       "      <td>NaN</td>\n",
       "      <td>NaN</td>\n",
       "      <td>45.00</td>\n",
       "      <td>0</td>\n",
       "    </tr>\n",
       "    <tr>\n",
       "      <th>3</th>\n",
       "      <td>541215</td>\n",
       "      <td>22662</td>\n",
       "      <td>LUNCH BAG DOLLY GIRL DESIGN</td>\n",
       "      <td>10</td>\n",
       "      <td>1.65</td>\n",
       "      <td>14329</td>\n",
       "      <td>United Kingdom</td>\n",
       "      <td>2011-01-14</td>\n",
       "      <td>13</td>\n",
       "      <td>NaN</td>\n",
       "      <td>NaN</td>\n",
       "      <td>16.50</td>\n",
       "      <td>0</td>\n",
       "    </tr>\n",
       "    <tr>\n",
       "      <th>4</th>\n",
       "      <td>565930</td>\n",
       "      <td>POST</td>\n",
       "      <td>POSTAGE</td>\n",
       "      <td>5</td>\n",
       "      <td>18.00</td>\n",
       "      <td>12685</td>\n",
       "      <td>France</td>\n",
       "      <td>2011-09-08</td>\n",
       "      <td>10</td>\n",
       "      <td>NaN</td>\n",
       "      <td>NaN</td>\n",
       "      <td>90.00</td>\n",
       "      <td>0</td>\n",
       "    </tr>\n",
       "  </tbody>\n",
       "</table>\n",
       "</div>"
      ],
      "text/plain": [
       "  InvoiceNo StockCode                        Description  Quantity  UnitPrice  \\\n",
       "0    574477     22591  CARDHOLDER GINGHAM CHRISTMAS TREE         1       3.25   \n",
       "1    570275     23541         WALL ART CLASSIC PUDDINGS         12       7.45   \n",
       "2    566482     22508           DOORSTOP RETROSPOT HEART        12       3.75   \n",
       "3    541215     22662        LUNCH BAG DOLLY GIRL DESIGN        10       1.65   \n",
       "4    565930      POST                            POSTAGE         5      18.00   \n",
       "\n",
       "   CustomerID         Country       Date  Hour       Holiday WeekDay  \\\n",
       "0       15453  United Kingdom 2011-11-04    12           NaN     NaN   \n",
       "1       13098  United Kingdom 2011-10-10    10  Columbus Day  Monday   \n",
       "2       16609  United Kingdom 2011-09-13     9           NaN     NaN   \n",
       "3       14329  United Kingdom 2011-01-14    13           NaN     NaN   \n",
       "4       12685          France 2011-09-08    10           NaN     NaN   \n",
       "\n",
       "   OrderTotal  is_holiday  \n",
       "0        3.25           0  \n",
       "1       89.40           1  \n",
       "2       45.00           0  \n",
       "3       16.50           0  \n",
       "4       90.00           0  "
      ]
     },
     "execution_count": 137,
     "metadata": {},
     "output_type": "execute_result"
    }
   ],
   "source": [
    "# conditional fill --> np.where(condition, value if condition is true, value if condition is false)\n",
    "merged['is_holiday'] = np.where(merged['Holiday'].isnull() == True, 0, 1)\n",
    "merged.head()"
   ]
  },
  {
   "cell_type": "code",
   "execution_count": 154,
   "id": "a30ecfca",
   "metadata": {},
   "outputs": [
    {
     "data": {
      "text/plain": [
       "Thanksgiving Eve               665\n",
       "Columbus Day                   548\n",
       "Veterans Day                   506\n",
       "Thanksgiving Day               483\n",
       "Labor Day                      275\n",
       "Labor Day Weekend              262\n",
       "Juneteenth                     236\n",
       "Washington's Birthday          195\n",
       "Martin Luther King, Jr. Day    191\n",
       "4th of July                    184\n",
       "Valentine’s Day                142\n",
       "Name: Holiday, dtype: int64"
      ]
     },
     "execution_count": 154,
     "metadata": {},
     "output_type": "execute_result"
    }
   ],
   "source": [
    "merged[\"Holiday\"].value_counts()"
   ]
  },
  {
   "cell_type": "code",
   "execution_count": 139,
   "id": "3fb3d727",
   "metadata": {},
   "outputs": [
    {
     "name": "stdout",
     "output_type": "stream",
     "text": [
      "Data starts at 2010-12-01 and ends at 2011-12-09\n"
     ]
    }
   ],
   "source": [
    "print(f\"Data starts at {merged['Date'].dt.date.min()} and ends at {merged['Date'].dt.date.max()}\")"
   ]
  },
  {
   "cell_type": "markdown",
   "id": "1a799781",
   "metadata": {},
   "source": [
    "# 4. Exploratory Analysis <a id='explore'></a>"
   ]
  },
  {
   "cell_type": "markdown",
   "id": "52a07501",
   "metadata": {},
   "source": [
    "Identifying which hoilday has the highest mean order total: "
   ]
  },
  {
   "cell_type": "code",
   "execution_count": 182,
   "id": "7233d491",
   "metadata": {
    "scrolled": true
   },
   "outputs": [
    {
     "data": {
      "text/plain": [
       "Holiday\n",
       "Thanksgiving Eve               13587.13\n",
       "Columbus Day                    9055.99\n",
       "Veterans Day                    7040.04\n",
       "Thanksgiving Day                6810.98\n",
       "4th of July                     6797.80\n",
       "Labor Day                       6780.43\n",
       "Washington's Birthday           5843.19\n",
       "Valentine’s Day                 4980.59\n",
       "Juneteenth                      4444.67\n",
       "Labor Day Weekend               3663.09\n",
       "Martin Luther King, Jr. Day     3342.42\n",
       "Name: OrderTotal, dtype: float64"
      ]
     },
     "execution_count": 182,
     "metadata": {},
     "output_type": "execute_result"
    }
   ],
   "source": [
    "merged.groupby(['Holiday'])['OrderTotal'].mean().sort_values(ascending=False)"
   ]
  },
  {
   "cell_type": "code",
   "execution_count": 179,
   "id": "70a68049",
   "metadata": {},
   "outputs": [
    {
     "data": {
      "image/png": "[encoded data removed]",
      "text/plain": [
       "<Figure size 640x480 with 1 Axes>"
      ]
     },
     "metadata": {},
     "output_type": "display_data"
    }
   ],
   "source": [
    "merged.groupby(['Holiday'])['OrderTotal'].mean().sort_values().plot.barh(subplots=True, title=\"Mean Order Total by Holiday\")\n",
    "\n",
    "plt.tight_layout()\n",
    "plt.show()"
   ]
  },
  {
   "cell_type": "markdown",
   "id": "12e034e7",
   "metadata": {},
   "source": [
    "Identifying which hoilday has the highest revenue: "
   ]
  },
  {
   "cell_type": "code",
   "execution_count": 183,
   "id": "765ad83c",
   "metadata": {
    "scrolled": false
   },
   "outputs": [
    {
     "data": {
      "text/plain": [
       "Holiday\n",
       "Thanksgiving Eve               13587.13\n",
       "Columbus Day                    9055.99\n",
       "Veterans Day                    7040.04\n",
       "Thanksgiving Day                6810.98\n",
       "4th of July                     6797.80\n",
       "Labor Day                       6780.43\n",
       "Washington's Birthday           5843.19\n",
       "Valentine’s Day                 4980.59\n",
       "Juneteenth                      4444.67\n",
       "Labor Day Weekend               3663.09\n",
       "Martin Luther King, Jr. Day     3342.42\n",
       "Name: OrderTotal, dtype: float64"
      ]
     },
     "execution_count": 183,
     "metadata": {},
     "output_type": "execute_result"
    }
   ],
   "source": [
    "merged.groupby(['Holiday'])['OrderTotal'].sum().sort_values(ascending=False)"
   ]
  },
  {
   "cell_type": "code",
   "execution_count": 188,
   "id": "dd5e65ef",
   "metadata": {
    "scrolled": false
   },
   "outputs": [
    {
     "data": {
      "image/png": "[encoded data removed]",
      "text/plain": [
       "<Figure size 640x480 with 1 Axes>"
      ]
     },
     "metadata": {},
     "output_type": "display_data"
    }
   ],
   "source": [
    "merged.groupby(['Holiday'])['OrderTotal'].sum().sort_values().plot.barh(subplots=True, title=\"Order Total Sum by Holiday\")\n",
    "\n",
    "plt.tight_layout()\n",
    "plt.show()"
   ]
  },
  {
   "cell_type": "markdown",
   "id": "43d58650",
   "metadata": {},
   "source": [
    "# 5. Interpret Results <a id='interpret'></a>"
   ]
  },
  {
   "cell_type": "markdown",
   "id": "d1eda61a",
   "metadata": {},
   "source": [
    "The holiday with the highest revenue is **Thanksgiving**. "
   ]
  },
  {
   "cell_type": "markdown",
   "id": "19309882",
   "metadata": {},
   "source": [
    "The holidays with the largest mean orders values are: \n",
    "- 4th of July:  \\$36.94\n",
    "- Valentine’s Day: \\$35.07\n",
    "\n",
    "These two holidays have nearly the same mean order total. "
   ]
  }
 ],
 "metadata": {
  "kernelspec": {
   "display_name": "Python 3 (ipykernel)",
   "language": "python",
   "name": "python3"
  },
  "language_info": {
   "codemirror_mode": {
    "name": "ipython",
    "version": 3
   },
   "file_extension": ".py",
   "mimetype": "text/x-python",
   "name": "python",
   "nbconvert_exporter": "python",
   "pygments_lexer": "ipython3",
   "version": "3.10.9"
  }
 },
 "nbformat": 4,
 "nbformat_minor": 5
}
