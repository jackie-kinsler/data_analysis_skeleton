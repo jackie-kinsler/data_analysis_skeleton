{
 "cells": [
  {
   "cell_type": "code",
   "execution_count": 334,
   "id": "6e2fdb6e",
   "metadata": {},
   "outputs": [],
   "source": [
    "import pandas as pd\n",
    "import numpy as np\n",
    "\n",
    "# visualization\n",
    "import matplotlib.pyplot as plt\n",
    "%matplotlib inline\n",
    "\n",
    "# machine learning\n",
    "from sklearn.linear_model import LogisticRegression\n",
    "from sklearn.ensemble import RandomForestClassifier\n",
    "from sklearn.model_selection import train_test_split"
   ]
  },
  {
   "cell_type": "markdown",
   "id": "876a5ac2",
   "metadata": {},
   "source": [
    "# Predicting who Survives on the Titanic \n",
    "\n",
    "Use machine learning to determine who dies, and who survives, on the Titanic. \n",
    "\n",
    "Logistic regression and random forest models will be tested. \n",
    "\n",
    "This project is broken into 6 steps: \n",
    "1. [Problem Definition](#problem_definition)\n",
    "2. [Gathering Data / Information](#get_data)\n",
    "3. [Data Cleaning / Imputation](#clean)\n",
    "4. [Exploratory Analysis](#explore)\n",
    "5. [Model Fitting](#fit)\n",
    "6. [Interpret Results](#interpret)"
   ]
  },
  {
   "cell_type": "markdown",
   "id": "0a080a5c",
   "metadata": {},
   "source": [
    "# 1. Problem definition <a id='problem_definition'></a>\n",
    "\n",
    "Given a test data set of who survived and didn't survive, can a model be created that can predict whether or not someone would survive the titanic disaster.  \n",
    "\n",
    "Check this model against the test data. \n"
   ]
  },
  {
   "cell_type": "markdown",
   "id": "39c232c6",
   "metadata": {},
   "source": [
    "# 2. Gathering Data / Information <a id='get_data'></a>"
   ]
  },
  {
   "cell_type": "code",
   "execution_count": 289,
   "id": "5becd395",
   "metadata": {},
   "outputs": [],
   "source": [
    "data = pd.read_csv('train.csv', sep=\",\")\n",
    "labels = np.array(data['Survived'])\n",
    "\n",
    "train, test, train_survial, test_survival = train_test_split(data, labels, test_size = 0.25, random_state = 42)\n",
    "combine = [train, test]"
   ]
  },
  {
   "cell_type": "markdown",
   "id": "6ae76a29",
   "metadata": {},
   "source": [
    "## Training Data"
   ]
  },
  {
   "cell_type": "code",
   "execution_count": 290,
   "id": "068d84b4",
   "metadata": {
    "scrolled": true
   },
   "outputs": [
    {
     "data": {
      "text/html": [
       "<div>\n",
       "<style scoped>\n",
       "    .dataframe tbody tr th:only-of-type {\n",
       "        vertical-align: middle;\n",
       "    }\n",
       "\n",
       "    .dataframe tbody tr th {\n",
       "        vertical-align: top;\n",
       "    }\n",
       "\n",
       "    .dataframe thead th {\n",
       "        text-align: right;\n",
       "    }\n",
       "</style>\n",
       "<table border=\"1\" class=\"dataframe\">\n",
       "  <thead>\n",
       "    <tr style=\"text-align: right;\">\n",
       "      <th></th>\n",
       "      <th>PassengerId</th>\n",
       "      <th>Survived</th>\n",
       "      <th>Pclass</th>\n",
       "      <th>Name</th>\n",
       "      <th>Sex</th>\n",
       "      <th>Age</th>\n",
       "      <th>SibSp</th>\n",
       "      <th>Parch</th>\n",
       "      <th>Ticket</th>\n",
       "      <th>Fare</th>\n",
       "      <th>Cabin</th>\n",
       "      <th>Embarked</th>\n",
       "    </tr>\n",
       "  </thead>\n",
       "  <tbody>\n",
       "    <tr>\n",
       "      <th>298</th>\n",
       "      <td>299</td>\n",
       "      <td>1</td>\n",
       "      <td>1</td>\n",
       "      <td>Saalfeld, Mr. Adolphe</td>\n",
       "      <td>male</td>\n",
       "      <td>NaN</td>\n",
       "      <td>0</td>\n",
       "      <td>0</td>\n",
       "      <td>19988</td>\n",
       "      <td>30.50</td>\n",
       "      <td>C106</td>\n",
       "      <td>S</td>\n",
       "    </tr>\n",
       "    <tr>\n",
       "      <th>884</th>\n",
       "      <td>885</td>\n",
       "      <td>0</td>\n",
       "      <td>3</td>\n",
       "      <td>Sutehall, Mr. Henry Jr</td>\n",
       "      <td>male</td>\n",
       "      <td>25.0</td>\n",
       "      <td>0</td>\n",
       "      <td>0</td>\n",
       "      <td>SOTON/OQ 392076</td>\n",
       "      <td>7.05</td>\n",
       "      <td>NaN</td>\n",
       "      <td>S</td>\n",
       "    </tr>\n",
       "  </tbody>\n",
       "</table>\n",
       "</div>"
      ],
      "text/plain": [
       "     PassengerId  Survived  Pclass                    Name   Sex   Age  SibSp  \\\n",
       "298          299         1       1   Saalfeld, Mr. Adolphe  male   NaN      0   \n",
       "884          885         0       3  Sutehall, Mr. Henry Jr  male  25.0      0   \n",
       "\n",
       "     Parch           Ticket   Fare Cabin Embarked  \n",
       "298      0            19988  30.50  C106        S  \n",
       "884      0  SOTON/OQ 392076   7.05   NaN        S  "
      ]
     },
     "execution_count": 290,
     "metadata": {},
     "output_type": "execute_result"
    }
   ],
   "source": [
    "train.head(2)"
   ]
  },
  {
   "cell_type": "code",
   "execution_count": 291,
   "id": "3ca70b73",
   "metadata": {
    "scrolled": true
   },
   "outputs": [
    {
     "data": {
      "text/plain": [
       "(668, 12)"
      ]
     },
     "execution_count": 291,
     "metadata": {},
     "output_type": "execute_result"
    }
   ],
   "source": [
    "train.shape"
   ]
  },
  {
   "cell_type": "code",
   "execution_count": 292,
   "id": "99ac6ebd",
   "metadata": {},
   "outputs": [
    {
     "name": "stdout",
     "output_type": "stream",
     "text": [
      "<class 'pandas.core.frame.DataFrame'>\n",
      "Int64Index: 668 entries, 298 to 102\n",
      "Data columns (total 12 columns):\n",
      " #   Column       Non-Null Count  Dtype  \n",
      "---  ------       --------------  -----  \n",
      " 0   PassengerId  668 non-null    int64  \n",
      " 1   Survived     668 non-null    int64  \n",
      " 2   Pclass       668 non-null    int64  \n",
      " 3   Name         668 non-null    object \n",
      " 4   Sex          668 non-null    object \n",
      " 5   Age          536 non-null    float64\n",
      " 6   SibSp        668 non-null    int64  \n",
      " 7   Parch        668 non-null    int64  \n",
      " 8   Ticket       668 non-null    object \n",
      " 9   Fare         668 non-null    float64\n",
      " 10  Cabin        149 non-null    object \n",
      " 11  Embarked     666 non-null    object \n",
      "dtypes: float64(2), int64(5), object(5)\n",
      "memory usage: 67.8+ KB\n"
     ]
    }
   ],
   "source": [
    "train.info()"
   ]
  },
  {
   "cell_type": "markdown",
   "id": "b4866d0a",
   "metadata": {},
   "source": [
    "There are 132 null values for age. "
   ]
  },
  {
   "cell_type": "code",
   "execution_count": 295,
   "id": "d424f00e",
   "metadata": {
    "scrolled": true
   },
   "outputs": [
    {
     "data": {
      "text/html": [
       "<div>\n",
       "<style scoped>\n",
       "    .dataframe tbody tr th:only-of-type {\n",
       "        vertical-align: middle;\n",
       "    }\n",
       "\n",
       "    .dataframe tbody tr th {\n",
       "        vertical-align: top;\n",
       "    }\n",
       "\n",
       "    .dataframe thead th {\n",
       "        text-align: right;\n",
       "    }\n",
       "</style>\n",
       "<table border=\"1\" class=\"dataframe\">\n",
       "  <thead>\n",
       "    <tr style=\"text-align: right;\">\n",
       "      <th></th>\n",
       "      <th>PassengerId</th>\n",
       "      <th>Survived</th>\n",
       "      <th>Pclass</th>\n",
       "      <th>Age</th>\n",
       "      <th>SibSp</th>\n",
       "      <th>Parch</th>\n",
       "      <th>Fare</th>\n",
       "    </tr>\n",
       "  </thead>\n",
       "  <tbody>\n",
       "    <tr>\n",
       "      <th>count</th>\n",
       "      <td>668.000000</td>\n",
       "      <td>668.000000</td>\n",
       "      <td>668.000000</td>\n",
       "      <td>536.000000</td>\n",
       "      <td>668.000000</td>\n",
       "      <td>668.000000</td>\n",
       "      <td>668.000000</td>\n",
       "    </tr>\n",
       "    <tr>\n",
       "      <th>mean</th>\n",
       "      <td>447.450599</td>\n",
       "      <td>0.378743</td>\n",
       "      <td>2.333832</td>\n",
       "      <td>29.421343</td>\n",
       "      <td>0.553892</td>\n",
       "      <td>0.372754</td>\n",
       "      <td>32.179397</td>\n",
       "    </tr>\n",
       "    <tr>\n",
       "      <th>std</th>\n",
       "      <td>258.038366</td>\n",
       "      <td>0.485437</td>\n",
       "      <td>0.823707</td>\n",
       "      <td>14.526010</td>\n",
       "      <td>1.185279</td>\n",
       "      <td>0.795588</td>\n",
       "      <td>51.604012</td>\n",
       "    </tr>\n",
       "    <tr>\n",
       "      <th>min</th>\n",
       "      <td>1.000000</td>\n",
       "      <td>0.000000</td>\n",
       "      <td>1.000000</td>\n",
       "      <td>0.420000</td>\n",
       "      <td>0.000000</td>\n",
       "      <td>0.000000</td>\n",
       "      <td>0.000000</td>\n",
       "    </tr>\n",
       "    <tr>\n",
       "      <th>25%</th>\n",
       "      <td>221.750000</td>\n",
       "      <td>0.000000</td>\n",
       "      <td>2.000000</td>\n",
       "      <td>20.750000</td>\n",
       "      <td>0.000000</td>\n",
       "      <td>0.000000</td>\n",
       "      <td>7.925000</td>\n",
       "    </tr>\n",
       "    <tr>\n",
       "      <th>50%</th>\n",
       "      <td>452.500000</td>\n",
       "      <td>0.000000</td>\n",
       "      <td>3.000000</td>\n",
       "      <td>28.000000</td>\n",
       "      <td>0.000000</td>\n",
       "      <td>0.000000</td>\n",
       "      <td>14.400000</td>\n",
       "    </tr>\n",
       "    <tr>\n",
       "      <th>75%</th>\n",
       "      <td>673.500000</td>\n",
       "      <td>1.000000</td>\n",
       "      <td>3.000000</td>\n",
       "      <td>38.000000</td>\n",
       "      <td>1.000000</td>\n",
       "      <td>0.000000</td>\n",
       "      <td>30.500000</td>\n",
       "    </tr>\n",
       "    <tr>\n",
       "      <th>max</th>\n",
       "      <td>891.000000</td>\n",
       "      <td>1.000000</td>\n",
       "      <td>3.000000</td>\n",
       "      <td>80.000000</td>\n",
       "      <td>8.000000</td>\n",
       "      <td>6.000000</td>\n",
       "      <td>512.329200</td>\n",
       "    </tr>\n",
       "  </tbody>\n",
       "</table>\n",
       "</div>"
      ],
      "text/plain": [
       "       PassengerId    Survived      Pclass         Age       SibSp  \\\n",
       "count   668.000000  668.000000  668.000000  536.000000  668.000000   \n",
       "mean    447.450599    0.378743    2.333832   29.421343    0.553892   \n",
       "std     258.038366    0.485437    0.823707   14.526010    1.185279   \n",
       "min       1.000000    0.000000    1.000000    0.420000    0.000000   \n",
       "25%     221.750000    0.000000    2.000000   20.750000    0.000000   \n",
       "50%     452.500000    0.000000    3.000000   28.000000    0.000000   \n",
       "75%     673.500000    1.000000    3.000000   38.000000    1.000000   \n",
       "max     891.000000    1.000000    3.000000   80.000000    8.000000   \n",
       "\n",
       "            Parch        Fare  \n",
       "count  668.000000  668.000000  \n",
       "mean     0.372754   32.179397  \n",
       "std      0.795588   51.604012  \n",
       "min      0.000000    0.000000  \n",
       "25%      0.000000    7.925000  \n",
       "50%      0.000000   14.400000  \n",
       "75%      0.000000   30.500000  \n",
       "max      6.000000  512.329200  "
      ]
     },
     "execution_count": 295,
     "metadata": {},
     "output_type": "execute_result"
    }
   ],
   "source": [
    "train.describe()"
   ]
  },
  {
   "cell_type": "code",
   "execution_count": 296,
   "id": "d6cbc4e6",
   "metadata": {
    "scrolled": true
   },
   "outputs": [
    {
     "name": "stdout",
     "output_type": "stream",
     "text": [
      "[1 3 2]\n",
      "1    152\n",
      "2    141\n",
      "3    375\n",
      "Name: Pclass, dtype: int64\n"
     ]
    }
   ],
   "source": [
    "print(train['Pclass'].unique())\n",
    "print(train['Pclass'].value_counts().sort_index())"
   ]
  },
  {
   "cell_type": "markdown",
   "id": "a9a7c26f",
   "metadata": {},
   "source": [
    "## Test Data "
   ]
  },
  {
   "cell_type": "code",
   "execution_count": 297,
   "id": "8be1d38e",
   "metadata": {
    "scrolled": true
   },
   "outputs": [
    {
     "data": {
      "text/html": [
       "<div>\n",
       "<style scoped>\n",
       "    .dataframe tbody tr th:only-of-type {\n",
       "        vertical-align: middle;\n",
       "    }\n",
       "\n",
       "    .dataframe tbody tr th {\n",
       "        vertical-align: top;\n",
       "    }\n",
       "\n",
       "    .dataframe thead th {\n",
       "        text-align: right;\n",
       "    }\n",
       "</style>\n",
       "<table border=\"1\" class=\"dataframe\">\n",
       "  <thead>\n",
       "    <tr style=\"text-align: right;\">\n",
       "      <th></th>\n",
       "      <th>PassengerId</th>\n",
       "      <th>Survived</th>\n",
       "      <th>Pclass</th>\n",
       "      <th>Name</th>\n",
       "      <th>Sex</th>\n",
       "      <th>Age</th>\n",
       "      <th>SibSp</th>\n",
       "      <th>Parch</th>\n",
       "      <th>Ticket</th>\n",
       "      <th>Fare</th>\n",
       "      <th>Cabin</th>\n",
       "      <th>Embarked</th>\n",
       "    </tr>\n",
       "  </thead>\n",
       "  <tbody>\n",
       "    <tr>\n",
       "      <th>709</th>\n",
       "      <td>710</td>\n",
       "      <td>1</td>\n",
       "      <td>3</td>\n",
       "      <td>Moubarek, Master. Halim Gonios (\"William George\")</td>\n",
       "      <td>male</td>\n",
       "      <td>NaN</td>\n",
       "      <td>1</td>\n",
       "      <td>1</td>\n",
       "      <td>2661</td>\n",
       "      <td>15.2458</td>\n",
       "      <td>NaN</td>\n",
       "      <td>C</td>\n",
       "    </tr>\n",
       "    <tr>\n",
       "      <th>439</th>\n",
       "      <td>440</td>\n",
       "      <td>0</td>\n",
       "      <td>2</td>\n",
       "      <td>Kvillner, Mr. Johan Henrik Johannesson</td>\n",
       "      <td>male</td>\n",
       "      <td>31.0</td>\n",
       "      <td>0</td>\n",
       "      <td>0</td>\n",
       "      <td>C.A. 18723</td>\n",
       "      <td>10.5000</td>\n",
       "      <td>NaN</td>\n",
       "      <td>S</td>\n",
       "    </tr>\n",
       "  </tbody>\n",
       "</table>\n",
       "</div>"
      ],
      "text/plain": [
       "     PassengerId  Survived  Pclass  \\\n",
       "709          710         1       3   \n",
       "439          440         0       2   \n",
       "\n",
       "                                                  Name   Sex   Age  SibSp  \\\n",
       "709  Moubarek, Master. Halim Gonios (\"William George\")  male   NaN      1   \n",
       "439             Kvillner, Mr. Johan Henrik Johannesson  male  31.0      0   \n",
       "\n",
       "     Parch      Ticket     Fare Cabin Embarked  \n",
       "709      1        2661  15.2458   NaN        C  \n",
       "439      0  C.A. 18723  10.5000   NaN        S  "
      ]
     },
     "execution_count": 297,
     "metadata": {},
     "output_type": "execute_result"
    }
   ],
   "source": [
    "test.head(2)"
   ]
  },
  {
   "cell_type": "code",
   "execution_count": 298,
   "id": "5b4b00db",
   "metadata": {
    "scrolled": true
   },
   "outputs": [
    {
     "data": {
      "text/plain": [
       "(223, 12)"
      ]
     },
     "execution_count": 298,
     "metadata": {},
     "output_type": "execute_result"
    }
   ],
   "source": [
    "test.shape"
   ]
  },
  {
   "cell_type": "code",
   "execution_count": 299,
   "id": "74c3c68a",
   "metadata": {},
   "outputs": [
    {
     "name": "stdout",
     "output_type": "stream",
     "text": [
      "<class 'pandas.core.frame.DataFrame'>\n",
      "Int64Index: 223 entries, 709 to 424\n",
      "Data columns (total 12 columns):\n",
      " #   Column       Non-Null Count  Dtype  \n",
      "---  ------       --------------  -----  \n",
      " 0   PassengerId  223 non-null    int64  \n",
      " 1   Survived     223 non-null    int64  \n",
      " 2   Pclass       223 non-null    int64  \n",
      " 3   Name         223 non-null    object \n",
      " 4   Sex          223 non-null    object \n",
      " 5   Age          178 non-null    float64\n",
      " 6   SibSp        223 non-null    int64  \n",
      " 7   Parch        223 non-null    int64  \n",
      " 8   Ticket       223 non-null    object \n",
      " 9   Fare         223 non-null    float64\n",
      " 10  Cabin        55 non-null     object \n",
      " 11  Embarked     223 non-null    object \n",
      "dtypes: float64(2), int64(5), object(5)\n",
      "memory usage: 22.6+ KB\n"
     ]
    }
   ],
   "source": [
    "test.info()"
   ]
  },
  {
   "cell_type": "markdown",
   "id": "2ff37595",
   "metadata": {},
   "source": [
    "## Both"
   ]
  },
  {
   "cell_type": "markdown",
   "id": "3377a2c6",
   "metadata": {},
   "source": [
    "Make male/female categorical "
   ]
  },
  {
   "cell_type": "code",
   "execution_count": 300,
   "id": "c033cfb4",
   "metadata": {},
   "outputs": [
    {
     "data": {
      "text/html": [
       "<div>\n",
       "<style scoped>\n",
       "    .dataframe tbody tr th:only-of-type {\n",
       "        vertical-align: middle;\n",
       "    }\n",
       "\n",
       "    .dataframe tbody tr th {\n",
       "        vertical-align: top;\n",
       "    }\n",
       "\n",
       "    .dataframe thead th {\n",
       "        text-align: right;\n",
       "    }\n",
       "</style>\n",
       "<table border=\"1\" class=\"dataframe\">\n",
       "  <thead>\n",
       "    <tr style=\"text-align: right;\">\n",
       "      <th></th>\n",
       "      <th>Survived</th>\n",
       "      <th>Pclass</th>\n",
       "      <th>Name</th>\n",
       "      <th>Sex</th>\n",
       "      <th>Age</th>\n",
       "      <th>SibSp</th>\n",
       "      <th>Parch</th>\n",
       "      <th>Fare</th>\n",
       "      <th>isFemale</th>\n",
       "    </tr>\n",
       "  </thead>\n",
       "  <tbody>\n",
       "    <tr>\n",
       "      <th>298</th>\n",
       "      <td>1</td>\n",
       "      <td>1</td>\n",
       "      <td>Saalfeld, Mr. Adolphe</td>\n",
       "      <td>male</td>\n",
       "      <td>NaN</td>\n",
       "      <td>0</td>\n",
       "      <td>0</td>\n",
       "      <td>30.5000</td>\n",
       "      <td>0</td>\n",
       "    </tr>\n",
       "    <tr>\n",
       "      <th>884</th>\n",
       "      <td>0</td>\n",
       "      <td>3</td>\n",
       "      <td>Sutehall, Mr. Henry Jr</td>\n",
       "      <td>male</td>\n",
       "      <td>25.00</td>\n",
       "      <td>0</td>\n",
       "      <td>0</td>\n",
       "      <td>7.0500</td>\n",
       "      <td>0</td>\n",
       "    </tr>\n",
       "    <tr>\n",
       "      <th>247</th>\n",
       "      <td>1</td>\n",
       "      <td>2</td>\n",
       "      <td>Hamalainen, Mrs. William (Anna)</td>\n",
       "      <td>female</td>\n",
       "      <td>24.00</td>\n",
       "      <td>0</td>\n",
       "      <td>2</td>\n",
       "      <td>14.5000</td>\n",
       "      <td>1</td>\n",
       "    </tr>\n",
       "    <tr>\n",
       "      <th>478</th>\n",
       "      <td>0</td>\n",
       "      <td>3</td>\n",
       "      <td>Karlsson, Mr. Nils August</td>\n",
       "      <td>male</td>\n",
       "      <td>22.00</td>\n",
       "      <td>0</td>\n",
       "      <td>0</td>\n",
       "      <td>7.5208</td>\n",
       "      <td>0</td>\n",
       "    </tr>\n",
       "    <tr>\n",
       "      <th>305</th>\n",
       "      <td>1</td>\n",
       "      <td>1</td>\n",
       "      <td>Allison, Master. Hudson Trevor</td>\n",
       "      <td>male</td>\n",
       "      <td>0.92</td>\n",
       "      <td>1</td>\n",
       "      <td>2</td>\n",
       "      <td>151.5500</td>\n",
       "      <td>0</td>\n",
       "    </tr>\n",
       "  </tbody>\n",
       "</table>\n",
       "</div>"
      ],
      "text/plain": [
       "     Survived  Pclass                             Name     Sex    Age  SibSp  \\\n",
       "298         1       1            Saalfeld, Mr. Adolphe    male    NaN      0   \n",
       "884         0       3           Sutehall, Mr. Henry Jr    male  25.00      0   \n",
       "247         1       2  Hamalainen, Mrs. William (Anna)  female  24.00      0   \n",
       "478         0       3        Karlsson, Mr. Nils August    male  22.00      0   \n",
       "305         1       1   Allison, Master. Hudson Trevor    male   0.92      1   \n",
       "\n",
       "     Parch      Fare  isFemale  \n",
       "298      0   30.5000         0  \n",
       "884      0    7.0500         0  \n",
       "247      2   14.5000         1  \n",
       "478      0    7.5208         0  \n",
       "305      2  151.5500         0  "
      ]
     },
     "execution_count": 300,
     "metadata": {},
     "output_type": "execute_result"
    }
   ],
   "source": [
    "for dataset in combine:\n",
    "    dataset['isFemale'] = np.where(dataset['Sex'] == 'female', 1, 0)\n",
    "    dataset.drop(columns=['PassengerId','Ticket', 'Cabin', 'Embarked'], inplace=True)    \n",
    "\n",
    "train.head()"
   ]
  },
  {
   "cell_type": "markdown",
   "id": "c1310e68",
   "metadata": {},
   "source": [
    "# 3. Data Cleaning / Imputation <a id='clean'></a>\n"
   ]
  },
  {
   "cell_type": "markdown",
   "id": "111572bc",
   "metadata": {},
   "source": [
    "# 4. Exploratory Analysis <a id='explore'></a>"
   ]
  },
  {
   "cell_type": "markdown",
   "id": "19af3bf8",
   "metadata": {},
   "source": [
    "## Investigate by Age"
   ]
  },
  {
   "cell_type": "code",
   "execution_count": 335,
   "id": "0134adb6",
   "metadata": {
    "scrolled": false
   },
   "outputs": [
    {
     "data": {
      "image/png": "[encoded data removed]",
      "text/plain": [
       "<Figure size 800x500 with 2 Axes>"
      ]
     },
     "metadata": {},
     "output_type": "display_data"
    }
   ],
   "source": [
    "fig, (ax1, ax2) = plt.subplots(2,1, figsize=(8,5), sharex=True, sharey=True)\n",
    "ax1.hist(train.loc[(train['Survived'] == 0)]['Age'], 30) # green \n",
    "ax2.hist(train.loc[(train['Survived'] == 1)]['Age'], 30) # green \n",
    "ax1.set_title('Died')\n",
    "ax2.set_title('Survived')\n",
    "ax2.set(xlabel='Age')\n",
    "\n",
    "plt.show()"
   ]
  },
  {
   "cell_type": "markdown",
   "id": "fef310a4",
   "metadata": {},
   "source": [
    "The above shows that more young children survived, more young adults (20-30) died. "
   ]
  },
  {
   "cell_type": "markdown",
   "id": "e68ef147",
   "metadata": {},
   "source": [
    "## Investigate by Ticket Class"
   ]
  },
  {
   "cell_type": "code",
   "execution_count": 336,
   "id": "7e60f2ae",
   "metadata": {
    "scrolled": false
   },
   "outputs": [
    {
     "data": {
      "image/png": "[encoded data removed]",
      "text/plain": [
       "<Figure size 800x500 with 2 Axes>"
      ]
     },
     "metadata": {},
     "output_type": "display_data"
    }
   ],
   "source": [
    "fig, (ax1, ax2) = plt.subplots(2,1, figsize=(8,5), sharex=True, sharey=True)\n",
    "ax1.hist(train.loc[(train['Survived'] == 0)]['Pclass'], 30) # green \n",
    "ax2.hist(train.loc[(train['Survived'] == 1)]['Pclass'], 30) # green \n",
    "ax1.set_title('Died')\n",
    "ax2.set_title('Survived')\n",
    "plt.xticks([1,2,3])\n",
    "plt.show()"
   ]
  },
  {
   "cell_type": "markdown",
   "id": "df379757",
   "metadata": {},
   "source": [
    "People of ticket class 3 were more likely to die. \n",
    "People of ticket class 1 were more likely to survive. "
   ]
  },
  {
   "cell_type": "code",
   "execution_count": 304,
   "id": "4e76002a",
   "metadata": {},
   "outputs": [
    {
     "name": "stdout",
     "output_type": "stream",
     "text": [
      "61% of class 1 passengers survived\n",
      "48% of class 2 passengers survived\n",
      "25% of class 3 passengers survived\n"
     ]
    }
   ],
   "source": [
    "survive_1 = train[(train['Pclass'] == 1) & (train['Survived'] == 1)]['Survived'].count()\n",
    "survive_2 = train[(train['Pclass'] == 2) & (train['Survived'] == 1)]['Survived'].count()\n",
    "survive_3 = train[(train['Pclass'] == 3) & (train['Survived'] == 1)]['Survived'].count()\n",
    "print(f\"{round(survive_1/152*100)}% of class 1 passengers survived\")\n",
    "print(f\"{round(survive_2/141*100)}% of class 2 passengers survived\")\n",
    "print(f\"{round(survive_3/375*100)}% of class 3 passengers survived\")"
   ]
  },
  {
   "cell_type": "markdown",
   "id": "c1159e4d",
   "metadata": {},
   "source": [
    "## Investigate by Sex "
   ]
  },
  {
   "cell_type": "code",
   "execution_count": 305,
   "id": "f444e93e",
   "metadata": {},
   "outputs": [
    {
     "name": "stdout",
     "output_type": "stream",
     "text": [
      "19% of males survived\n",
      "74% of females survived\n"
     ]
    }
   ],
   "source": [
    "survive_m = train[(train['Sex'] == 'male') & (train['Survived'] == 1)]['Survived'].count()\n",
    "survive_f = train[(train['Sex'] == 'female') & (train['Survived'] == 1)]['Survived'].count()\n",
    "\n",
    "num_f = train['Sex'].value_counts()['female']\n",
    "num_m = train['Sex'].count() - num_f\n",
    "print(f\"{round(survive_m/num_m*100)}% of males survived\")\n",
    "print(f\"{round(survive_f/num_f*100)}% of females survived\")"
   ]
  },
  {
   "cell_type": "markdown",
   "id": "a99d177b",
   "metadata": {},
   "source": [
    "## Investigate how Fare and Ticket Class are Related"
   ]
  },
  {
   "cell_type": "code",
   "execution_count": 306,
   "id": "066e01c1",
   "metadata": {},
   "outputs": [
    {
     "data": {
      "image/png": "[encoded data removed]",
      "text/plain": [
       "<Figure size 800x400 with 1 Axes>"
      ]
     },
     "metadata": {},
     "output_type": "display_data"
    }
   ],
   "source": [
    "plt.figure(figsize=(8,4))\n",
    "plt.title('Ticket Class')\n",
    "plt.xlabel(\"Fare\")\n",
    "plt.ylabel(\"Forecast [MWh]\")\n",
    "plt.scatter(train['Fare'], train['Pclass'], s=5)\n",
    "plt.yticks([0,1,2])\n",
    "\n",
    "plt.show()"
   ]
  },
  {
   "cell_type": "markdown",
   "id": "afba573c",
   "metadata": {},
   "source": [
    "# 5. Model Fitting <a id='fit'></a>"
   ]
  },
  {
   "cell_type": "code",
   "execution_count": null,
   "id": "8a2b0808",
   "metadata": {
    "scrolled": true
   },
   "outputs": [],
   "source": [
    "for df in combine: \n",
    "    df.drop([\"Name\", \"Sex\", \"Fare\"], axis=1, inplace=True)"
   ]
  },
  {
   "cell_type": "code",
   "execution_count": 321,
   "id": "c23babd0",
   "metadata": {},
   "outputs": [],
   "source": [
    "train['Age'].fillna(train['Age'].dropna().median(), inplace=True)\n",
    "test['Age'].fillna(test['Age'].dropna().median(), inplace=True)"
   ]
  },
  {
   "cell_type": "markdown",
   "id": "8920c679",
   "metadata": {},
   "source": [
    "## Logistic Regression "
   ]
  },
  {
   "cell_type": "markdown",
   "id": "c8d22dbb",
   "metadata": {},
   "source": [
    "**Creating test and train sets** for the models. "
   ]
  },
  {
   "cell_type": "code",
   "execution_count": 322,
   "id": "32969656",
   "metadata": {},
   "outputs": [
    {
     "data": {
      "text/plain": [
       "((668, 5), (668,), (223, 5))"
      ]
     },
     "execution_count": 322,
     "metadata": {},
     "output_type": "execute_result"
    }
   ],
   "source": [
    "# Predictors \n",
    "X_train = train.drop(\"Survived\", axis=1)\n",
    "Y_train = train[\"Survived\"]\n",
    "X_test  = test.drop(\"Survived\", axis=1)\n",
    "Y_test = test[\"Survived\"]\n",
    "X_train.shape, Y_train.shape, X_test.shape"
   ]
  },
  {
   "cell_type": "code",
   "execution_count": 323,
   "id": "af7d11a5",
   "metadata": {},
   "outputs": [
    {
     "data": {
      "text/html": [
       "<style>#sk-container-id-7 {color: black;background-color: white;}#sk-container-id-7 pre{padding: 0;}#sk-container-id-7 div.sk-toggleable {background-color: white;}#sk-container-id-7 label.sk-toggleable__label {cursor: pointer;display: block;width: 100%;margin-bottom: 0;padding: 0.3em;box-sizing: border-box;text-align: center;}#sk-container-id-7 label.sk-toggleable__label-arrow:before {content: \"▸\";float: left;margin-right: 0.25em;color: #696969;}#sk-container-id-7 label.sk-toggleable__label-arrow:hover:before {color: black;}#sk-container-id-7 div.sk-estimator:hover label.sk-toggleable__label-arrow:before {color: black;}#sk-container-id-7 div.sk-toggleable__content {max-height: 0;max-width: 0;overflow: hidden;text-align: left;background-color: #f0f8ff;}#sk-container-id-7 div.sk-toggleable__content pre {margin: 0.2em;color: black;border-radius: 0.25em;background-color: #f0f8ff;}#sk-container-id-7 input.sk-toggleable__control:checked~div.sk-toggleable__content {max-height: 200px;max-width: 100%;overflow: auto;}#sk-container-id-7 input.sk-toggleable__control:checked~label.sk-toggleable__label-arrow:before {content: \"▾\";}#sk-container-id-7 div.sk-estimator input.sk-toggleable__control:checked~label.sk-toggleable__label {background-color: #d4ebff;}#sk-container-id-7 div.sk-label input.sk-toggleable__control:checked~label.sk-toggleable__label {background-color: #d4ebff;}#sk-container-id-7 input.sk-hidden--visually {border: 0;clip: rect(1px 1px 1px 1px);clip: rect(1px, 1px, 1px, 1px);height: 1px;margin: -1px;overflow: hidden;padding: 0;position: absolute;width: 1px;}#sk-container-id-7 div.sk-estimator {font-family: monospace;background-color: #f0f8ff;border: 1px dotted black;border-radius: 0.25em;box-sizing: border-box;margin-bottom: 0.5em;}#sk-container-id-7 div.sk-estimator:hover {background-color: #d4ebff;}#sk-container-id-7 div.sk-parallel-item::after {content: \"\";width: 100%;border-bottom: 1px solid gray;flex-grow: 1;}#sk-container-id-7 div.sk-label:hover label.sk-toggleable__label {background-color: #d4ebff;}#sk-container-id-7 div.sk-serial::before {content: \"\";position: absolute;border-left: 1px solid gray;box-sizing: border-box;top: 0;bottom: 0;left: 50%;z-index: 0;}#sk-container-id-7 div.sk-serial {display: flex;flex-direction: column;align-items: center;background-color: white;padding-right: 0.2em;padding-left: 0.2em;position: relative;}#sk-container-id-7 div.sk-item {position: relative;z-index: 1;}#sk-container-id-7 div.sk-parallel {display: flex;align-items: stretch;justify-content: center;background-color: white;position: relative;}#sk-container-id-7 div.sk-item::before, #sk-container-id-7 div.sk-parallel-item::before {content: \"\";position: absolute;border-left: 1px solid gray;box-sizing: border-box;top: 0;bottom: 0;left: 50%;z-index: -1;}#sk-container-id-7 div.sk-parallel-item {display: flex;flex-direction: column;z-index: 1;position: relative;background-color: white;}#sk-container-id-7 div.sk-parallel-item:first-child::after {align-self: flex-end;width: 50%;}#sk-container-id-7 div.sk-parallel-item:last-child::after {align-self: flex-start;width: 50%;}#sk-container-id-7 div.sk-parallel-item:only-child::after {width: 0;}#sk-container-id-7 div.sk-dashed-wrapped {border: 1px dashed gray;margin: 0 0.4em 0.5em 0.4em;box-sizing: border-box;padding-bottom: 0.4em;background-color: white;}#sk-container-id-7 div.sk-label label {font-family: monospace;font-weight: bold;display: inline-block;line-height: 1.2em;}#sk-container-id-7 div.sk-label-container {text-align: center;}#sk-container-id-7 div.sk-container {/* jupyter's `normalize.less` sets `[hidden] { display: none; }` but bootstrap.min.css set `[hidden] { display: none !important; }` so we also need the `!important` here to be able to override the default hidden behavior on the sphinx rendered scikit-learn.org. See: https://github.com/scikit-learn/scikit-learn/issues/21755 */display: inline-block !important;position: relative;}#sk-container-id-7 div.sk-text-repr-fallback {display: none;}</style><div id=\"sk-container-id-7\" class=\"sk-top-container\"><div class=\"sk-text-repr-fallback\"><pre>LogisticRegression()</pre><b>In a Jupyter environment, please rerun this cell to show the HTML representation or trust the notebook. <br />On GitHub, the HTML representation is unable to render, please try loading this page with nbviewer.org.</b></div><div class=\"sk-container\" hidden><div class=\"sk-item\"><div class=\"sk-estimator sk-toggleable\"><input class=\"sk-toggleable__control sk-hidden--visually\" id=\"sk-estimator-id-7\" type=\"checkbox\" checked><label for=\"sk-estimator-id-7\" class=\"sk-toggleable__label sk-toggleable__label-arrow\">LogisticRegression</label><div class=\"sk-toggleable__content\"><pre>LogisticRegression()</pre></div></div></div></div></div>"
      ],
      "text/plain": [
       "LogisticRegression()"
      ]
     },
     "execution_count": 323,
     "metadata": {},
     "output_type": "execute_result"
    }
   ],
   "source": [
    "LR_model = LogisticRegression()\n",
    "LR_model.fit(X_train, Y_train)"
   ]
  },
  {
   "cell_type": "code",
   "execution_count": 324,
   "id": "7630d807",
   "metadata": {},
   "outputs": [],
   "source": [
    "survive_pred = LR_model.predict(X_test)"
   ]
  },
  {
   "cell_type": "code",
   "execution_count": 325,
   "id": "eaae51a4",
   "metadata": {
    "scrolled": true
   },
   "outputs": [
    {
     "data": {
      "text/plain": [
       "81.6"
      ]
     },
     "execution_count": 325,
     "metadata": {},
     "output_type": "execute_result"
    }
   ],
   "source": [
    "round(LR_model.score(X_test, Y_test)*100, 1)"
   ]
  },
  {
   "cell_type": "markdown",
   "id": "340a92fe",
   "metadata": {},
   "source": [
    "## Random Forest "
   ]
  },
  {
   "cell_type": "code",
   "execution_count": 333,
   "id": "317ed7a1",
   "metadata": {},
   "outputs": [
    {
     "data": {
      "text/plain": [
       "73.09"
      ]
     },
     "execution_count": 333,
     "metadata": {},
     "output_type": "execute_result"
    }
   ],
   "source": [
    "rf = RandomForestClassifier(n_estimators=100)\n",
    "rf.fit(X_train, Y_train)\n",
    "Y_pred = rf.predict(X_test)\n",
    "acc_random_forest = round(rf.score(X_test, Y_test) * 100, 2)\n",
    "acc_random_forest"
   ]
  },
  {
   "cell_type": "code",
   "execution_count": 339,
   "id": "b3fe6ba5",
   "metadata": {},
   "outputs": [
    {
     "name": "stdout",
     "output_type": "stream",
     "text": [
      "Variable: Age                  Importance: 0.4\n",
      "Variable: isFemale             Importance: 0.35\n",
      "Variable: Pclass               Importance: 0.13\n",
      "Variable: SibSp                Importance: 0.07\n",
      "Variable: Parch                Importance: 0.05\n"
     ]
    }
   ],
   "source": [
    "feature_list = list(X_train.columns)\n",
    "# Get numerical feature importances\n",
    "importances = list(rf.feature_importances_)\n",
    "# List of tuples with variable and importance\n",
    "feature_importances = [(feature, round(importance, 2)) for feature, importance in zip(feature_list, importances)]\n",
    "# Sort the feature importances by most important first\n",
    "feature_importances = sorted(feature_importances, key = lambda x: x[1], reverse = True)\n",
    "# Print out the feature and importances \n",
    "[print('Variable: {:20} Importance: {}'.format(*pair)) for pair in feature_importances];"
   ]
  },
  {
   "cell_type": "markdown",
   "id": "6b853e4d",
   "metadata": {},
   "source": [
    "# 6. Interpret Results <a id='interpret'></a>"
   ]
  },
  {
   "cell_type": "markdown",
   "id": "9bac0440",
   "metadata": {},
   "source": [
    "Logistic Regression performed better than Random Forest. \n",
    "\n",
    "Age and sex are the most important predictors when determining survival (followed by ticket class). \n",
    "\n",
    "SibSp and Parch do not greatly affect the survival rate. "
   ]
  }
 ],
 "metadata": {
  "kernelspec": {
   "display_name": "Python 3 (ipykernel)",
   "language": "python",
   "name": "python3"
  },
  "language_info": {
   "codemirror_mode": {
    "name": "ipython",
    "version": 3
   },
   "file_extension": ".py",
   "mimetype": "text/x-python",
   "name": "python",
   "nbconvert_exporter": "python",
   "pygments_lexer": "ipython3",
   "version": "3.10.9"
  }
 },
 "nbformat": 4,
 "nbformat_minor": 5
}
