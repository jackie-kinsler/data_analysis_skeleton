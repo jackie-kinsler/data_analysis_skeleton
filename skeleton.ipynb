{
 "cells": [
  {
   "cell_type": "code",
   "execution_count": 3,
   "id": "b98f042b",
   "metadata": {},
   "outputs": [],
   "source": [
    "# Everything you might want to import... Remove what you don't use! \n",
    "# import calendar\n",
    "# import datetime as dt \n",
    "# from dotenv import dotenv_values \n",
    "# import json\n",
    "import matplotlib.pyplot as plt\n",
    "import seaborn as sns\n",
    "import numpy as np \n",
    "# import os \n",
    "import pandas as pd\n",
    "# import requests\n",
    "# from simpletsmodel import *\n",
    "# from sklearn.linear_model import LinearRegression\n",
    "# from sklearn.preprocessing import PolynomialFeatures\n",
    "# from statsmodels.tsa.seasonal import seasonal_decompose\n",
    "# import statsmodels.api as sm\n",
    "# from utils import *"
   ]
  },
  {
   "cell_type": "markdown",
   "id": "757668af",
   "metadata": {},
   "source": [
    "# Data Analysis Skeleton (TITLE)\n",
    "\n",
    "This project is broken into 6 steps: \n",
    "1. [Problem Definition](#problem_definition)\n",
    "2. [Gathering Data / Information](#get_data)\n",
    "3. [Data Cleaning / Imputation](#clean)\n",
    "4. [Exploratory Analysis](#explore)\n",
    "5. [Model Fitting](#fit)\n",
    "6. [Interpret Results](#interpret)"
   ]
  },
  {
   "cell_type": "markdown",
   "id": "788e1004",
   "metadata": {},
   "source": [
    "# 1. Problem definition <a id='problem_definition'></a>"
   ]
  },
  {
   "cell_type": "markdown",
   "id": "f65d783b",
   "metadata": {},
   "source": [
    "# 2. Gathering Data / Information <a id='get_data'></a>"
   ]
  },
  {
   "cell_type": "code",
   "execution_count": null,
   "id": "206ff23e",
   "metadata": {},
   "outputs": [],
   "source": [
    "pd.read_csv('/path', sep=\",\")\n",
    "pd.read_json('/path')\n"
   ]
  },
  {
   "cell_type": "markdown",
   "id": "782e2690",
   "metadata": {},
   "source": [
    "Connecting to SQL databases in Python: \n",
    "\n",
    "https://medium.com/@devartimahakalkar/connecting-sql-datasets-with-pandas-105f8eb68f1a\n",
    "\n",
    "(Also saved to Desktop)"
   ]
  },
  {
   "cell_type": "markdown",
   "id": "78d7250b",
   "metadata": {},
   "source": [
    "quick preview of the data: \n",
    "- `df.head()`\n",
    "- `df.shape` #dataset composed of X rows and X columns\n",
    "- `df.info()` #find data types and if there are any nulls\n",
    "- `df.describe()` #get various summary statistics   \n",
    "    \"From the above descriptive statistics...\"\n",
    "- `df.column.unique()` #find if variable is discrete and categorical\n",
    "- `df.column.value_counts()` #shows how many of each variable there is \n"
   ]
  },
  {
   "cell_type": "markdown",
   "id": "cec0ab81",
   "metadata": {},
   "source": [
    "Merging data together: \n",
    "- `left.merge(right, how='inner', left_on='lkey', right_on='rkey')`\n",
    "\n",
    "Creating column based on condition: \n",
    "- np.where(condition, value if condition is true, value if condition is false)\n",
    "- `df['hasimage'] = np.where(df['photos']!= '[]', True, False)`\n",
    "\n",
    "Merge reference [here](https://documentation.mindsphere.io/resources/html/predictive-learning/en-US/Images/Joins_Diagram.png). "
   ]
  },
  {
   "cell_type": "markdown",
   "id": "c31e2a8b",
   "metadata": {},
   "source": [
    "# 3. Data Cleaning / Imputation <a id='clean'></a>\n"
   ]
  },
  {
   "cell_type": "markdown",
   "id": "e0dab086",
   "metadata": {},
   "source": [
    "**Data cleaning** \n",
    "Check for:\n",
    "- Duplicates `duplicateRows = df[df.duplicated()]`,`df.drop_duplicates()`\n",
    "- Data types `df.info()`  \n",
    "  `df[\"column\"] = pd.to_numeric(df[\"column\"])`  \n",
    "  `df[\"column\"] = pd.to_datetime(df[\"column\"])`  \n",
    "  `df[\"column\"] = df[\"column\"].astype(\"string\")`  \n",
    "\n",
    "- Make timezone aware `Series.dt.tz_localize()`\n",
    "- Meaningful column names \n",
    "- Outliers \n",
    "\n",
    "```\n",
    "df[['Col_1','Col_1']].plot(subplots=True)\n",
    "\n",
    "plt.tight_layout()\n",
    "plt.show()\n",
    "```\n",
    "- Filter the outliers using expressions: \n",
    "  `df.loc[df['Col_1'] == 2]`\n",
    "- Drop by index value: `df.drop([0, 1], inplace=True)` <--0,1 are index values \n",
    "- Drop by condition:  \n",
    "```\n",
    "indexAge = df[ (df['Age'] >= 20) & (df['Age'] <= 25) ].index\n",
    "df.drop(indexAge , inplace=True)\n",
    "```\n",
    "- Drop unneeded columns `df.drop(columns=['B', 'C'])`"
   ]
  },
  {
   "cell_type": "markdown",
   "id": "80e45c68",
   "metadata": {},
   "source": [
    "Data imputation steps: \n",
    "- Check for nulls\n",
    "- Check for missing data \n",
    "- Impute if possible / necessary "
   ]
  },
  {
   "cell_type": "markdown",
   "id": "3a2eab3e",
   "metadata": {},
   "source": [
    "# 4. Exploratory Analysis <a id='explore'></a>"
   ]
  },
  {
   "cell_type": "markdown",
   "id": "de747a90",
   "metadata": {},
   "source": [
    "Plot the data: \n",
    "- Identify any trends / patterns \n",
    "- Is seasonality important? \n",
    "- Are there outliers that need explaining? \n",
    "- Is there evidence of a business cycle? "
   ]
  },
  {
   "cell_type": "markdown",
   "id": "710733bb",
   "metadata": {},
   "source": [
    "Quick correlation matrix. \n",
    "- `df.corr()`\n",
    "- `sns.heatmp(df.corr(), cmap='YlGnBu',annot=True)`\n",
    "- If two variables are highly correlated, it may make sense to remove one from the model before performing a linear regression. \n",
    "\n",
    "box plot\n",
    "- `df.boxplot(column=['Col1', 'Col2', 'Col3'])`\n",
    "- show the distribution of quantative data \n",
    "- the box shows the quartiles of the dataset, while the whiskers extend to show the rest of the distribution "
   ]
  },
  {
   "cell_type": "code",
   "execution_count": null,
   "id": "53f39e32",
   "metadata": {},
   "outputs": [],
   "source": [
    "#Quality correlation matrix\n",
    "k = 12 #number of variables for heatmap\n",
    "cols = df.corr().nlargest(k, 'quality')['quality'].index\n",
    "cm = df[cols].corr()\n",
    "plt.figure(figsize=(10,6))\n",
    "sns.heatmap(cm, annot=True, cmap = 'viridis')"
   ]
  },
  {
   "cell_type": "code",
   "execution_count": null,
   "id": "ba073ac4",
   "metadata": {},
   "outputs": [],
   "source": [
    "#box plot\n",
    "l = df.columns.values\n",
    "number_of_columns=12\n",
    "number_of_rows = len(l)-1/number_of_columns\n",
    "plt.figure(figsize=(number_of_columns,5*number_of_rows))\n",
    "for i in range(0,len(l)):\n",
    "    plt.subplot(number_of_rows + 1,number_of_columns,i+1)\n",
    "    sns.set_style('whitegrid')\n",
    "    sns.boxplot(df[l[i]],color='green',orient='v')\n",
    "    plt.tight_layout()"
   ]
  },
  {
   "cell_type": "markdown",
   "id": "ecfdc873",
   "metadata": {},
   "source": [
    "Some summary statistics "
   ]
  },
  {
   "cell_type": "markdown",
   "id": "29e784af",
   "metadata": {},
   "source": []
  },
  {
   "cell_type": "markdown",
   "id": "1818d6aa",
   "metadata": {},
   "source": [
    "# 5. Model Fitting <a id='fit'></a>"
   ]
  },
  {
   "cell_type": "markdown",
   "id": "5e42a243",
   "metadata": {},
   "source": [
    "Linear Regression"
   ]
  },
  {
   "cell_type": "code",
   "execution_count": null,
   "id": "2ce7c684",
   "metadata": {},
   "outputs": [],
   "source": [
    "# demand array must be 2D, reshape() makes this nympy array 2D\n",
    "# reshape is a numpy operator, so use .values to turn the pd series into a np array \n",
    "demand_x = demand_forecast['demand'].values.reshape(-1,1)\n",
    "forecast_y = demand_forecast['PGE_forecast'].values.reshape(-1,1)\n",
    "model = LinearRegression().fit(demand_x, forecast_y)\n",
    "r_sq = model.score(demand_x, forecast_y)\n",
    "print (f\"R^2 value is {r_sq.round(3)}\")"
   ]
  },
  {
   "cell_type": "markdown",
   "id": "1228235e",
   "metadata": {},
   "source": [
    "# 6. Interpret Results <a id='interpret'></a>"
   ]
  }
 ],
 "metadata": {
  "kernelspec": {
   "display_name": "Python 3 (ipykernel)",
   "language": "python",
   "name": "python3"
  },
  "language_info": {
   "codemirror_mode": {
    "name": "ipython",
    "version": 3
   },
   "file_extension": ".py",
   "mimetype": "text/x-python",
   "name": "python",
   "nbconvert_exporter": "python",
   "pygments_lexer": "ipython3",
   "version": "3.10.9"
  }
 },
 "nbformat": 4,
 "nbformat_minor": 5
}
