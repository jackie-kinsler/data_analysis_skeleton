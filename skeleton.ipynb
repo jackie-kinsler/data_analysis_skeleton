{
 "cells": [
  {
   "cell_type": "code",
   "execution_count": 3,
   "id": "aeb84a64",
   "metadata": {},
   "outputs": [],
   "source": [
    "# Everything you might want to import... Remove what you don't use! \n",
    "# import calendar\n",
    "# import datetime as dt \n",
    "# from dotenv import dotenv_values \n",
    "# import json\n",
    "import matplotlib.pyplot as plt\n",
    "import seaborn as sns\n",
    "import numpy as np \n",
    "# import os \n",
    "import pandas as pd\n",
    "# import requests\n",
    "# from simpletsmodel import *\n",
    "# from sklearn.linear_model import LinearRegression\n",
    "# from sklearn.preprocessing import PolynomialFeatures\n",
    "# from statsmodels.tsa.seasonal import seasonal_decompose\n",
    "# import statsmodels.api as sm\n",
    "# from utils import *"
   ]
  },
  {
   "cell_type": "markdown",
   "id": "7cb1f233",
   "metadata": {},
   "source": [
    "# Data Analysis Skeleton (TITLE)\n",
    "\n",
    "This project is broken into 6 steps: \n",
    "1. [Problem Definition](#problem_definition)\n",
    "2. [Gathering Data / Information](#get_data)\n",
    "3. [Data Cleaning / Imputation](#clean)\n",
    "4. [Exploratory Analysis](#explore)\n",
    "5. [Model Fitting](#fit)\n",
    "6. [Interpret Results](#interpret)"
   ]
  },
  {
   "cell_type": "markdown",
   "id": "c2efacbd",
   "metadata": {},
   "source": [
    "# 1. Problem definition <a id='problem_definition'></a>"
   ]
  },
  {
   "cell_type": "markdown",
   "id": "b7597728",
   "metadata": {},
   "source": [
    "# 2. Gathering Data / Information <a id='get_data'></a>"
   ]
  },
  {
   "cell_type": "code",
   "execution_count": null,
   "id": "062ea029",
   "metadata": {},
   "outputs": [],
   "source": [
    "pd.read_csv('/path', sep=\",\")\n",
    "pd.read_json('/path')\n"
   ]
  },
  {
   "cell_type": "markdown",
   "id": "80c609d3",
   "metadata": {},
   "source": [
    "Connecting to SQL databases in Python: \n",
    "\n",
    "https://medium.com/@devartimahakalkar/connecting-sql-datasets-with-pandas-105f8eb68f1a\n",
    "\n",
    "(Also saved to Desktop)"
   ]
  },
  {
   "cell_type": "code",
   "execution_count": null,
   "id": "bf17b968",
   "metadata": {},
   "outputs": [],
   "source": [
    "# quick preview of the data \n",
    "df.head()\n",
    "df.shape #dataset composed of X rows and X columns\n",
    "df.info() #find data types and if there are any nulls\n",
    "df.describe() #get various summary statistics \n",
    "df.column.unique() #find if variable is discrete and categorical\n",
    "df.column.value_counts() #shows how many of each variable there is \n"
   ]
  },
  {
   "cell_type": "markdown",
   "id": "3baf75f8",
   "metadata": {},
   "source": [
    "# 3. Data Cleaning / Imputation <a id='clean'></a>\n"
   ]
  },
  {
   "cell_type": "markdown",
   "id": "ed5deb2b",
   "metadata": {},
   "source": [
    "**Data cleaning** \n",
    "Check for:\n",
    "- Duplicates\n",
    "- Data types `df.info()`\n",
    "- Meaningful column names \n",
    "- Outliers "
   ]
  },
  {
   "cell_type": "markdown",
   "id": "a88a19c1",
   "metadata": {},
   "source": [
    "Data imputation steps: \n",
    "- Check for nulls\n",
    "- Check for missing data \n",
    "- Impute if possible / necessary "
   ]
  },
  {
   "cell_type": "markdown",
   "id": "1a799781",
   "metadata": {},
   "source": [
    "# 4. Exploratory Analysis <a id='explore'></a>"
   ]
  },
  {
   "cell_type": "markdown",
   "id": "52c8f111",
   "metadata": {},
   "source": [
    "Plot the data: \n",
    "- Identify any trends / patterns \n",
    "- Is seasonality important? \n",
    "- Are there outliers that need explaining? \n",
    "- Is there evidence of a business cycle? \n",
    "\n",
    "(get a way to plot all columns in one graph)\n"
   ]
  },
  {
   "cell_type": "markdown",
   "id": "b1696b65",
   "metadata": {},
   "source": [
    "Quick correlation matrix. \n",
    "- `df.corr()`\n",
    "- `sns.heatmp(df.corr(), cmap='YlGnBu',annot=True)`\n",
    "- If two variables are highly correlated, it may make sense to remove one from the model before performing a linear regression. \n",
    "\n",
    "box plot\n",
    "- show the distribution of quantative data \n",
    "- the box shows the quartiles of the dataset, while the whiskers extend to show the rest of the distribution "
   ]
  },
  {
   "cell_type": "code",
   "execution_count": null,
   "id": "d9224ef5",
   "metadata": {},
   "outputs": [],
   "source": [
    "#Quality correlation matrix\n",
    "k = 12 #number of variables for heatmap\n",
    "cols = df.corr().nlargest(k, 'quality')['quality'].index\n",
    "cm = df[cols].corr()\n",
    "plt.figure(figsize=(10,6))\n",
    "sns.heatmap(cm, annot=True, cmap = 'viridis')"
   ]
  },
  {
   "cell_type": "code",
   "execution_count": null,
   "id": "09aa1cde",
   "metadata": {},
   "outputs": [],
   "source": [
    "#box plot\n",
    "l = df.columns.values\n",
    "number_of_columns=12\n",
    "number_of_rows = len(l)-1/number_of_columns\n",
    "plt.figure(figsize=(number_of_columns,5*number_of_rows))\n",
    "for i in range(0,len(l)):\n",
    "    plt.subplot(number_of_rows + 1,number_of_columns,i+1)\n",
    "    sns.set_style('whitegrid')\n",
    "    sns.boxplot(df[l[i]],color='green',orient='v')\n",
    "    plt.tight_layout()"
   ]
  },
  {
   "cell_type": "markdown",
   "id": "7a7296fa",
   "metadata": {},
   "source": [
    "Some summary statistics "
   ]
  },
  {
   "cell_type": "markdown",
   "id": "72054e02",
   "metadata": {},
   "source": []
  },
  {
   "cell_type": "markdown",
   "id": "e758e458",
   "metadata": {},
   "source": [
    "# 5. Model Fitting <a id='fit'></a>"
   ]
  },
  {
   "cell_type": "markdown",
   "id": "d4b422d7",
   "metadata": {},
   "source": [
    "Linear Regression"
   ]
  },
  {
   "cell_type": "code",
   "execution_count": null,
   "id": "7a155cc5",
   "metadata": {},
   "outputs": [],
   "source": [
    "# demand array must be 2D, reshape() makes this nympy array 2D\n",
    "# reshape is a numpy operator, so use .values to turn the pd series into a np array \n",
    "demand_x = demand_forecast['demand'].values.reshape(-1,1)\n",
    "forecast_y = demand_forecast['PGE_forecast'].values.reshape(-1,1)\n",
    "model = LinearRegression().fit(demand_x, forecast_y)\n",
    "r_sq = model.score(demand_x, forecast_y)\n",
    "print (f\"R^2 value is {r_sq.round(3)}\")"
   ]
  },
  {
   "cell_type": "markdown",
   "id": "43d58650",
   "metadata": {},
   "source": [
    "# 6. Interpret Results <a id='interpret'></a>"
   ]
  }
 ],
 "metadata": {
  "kernelspec": {
   "display_name": "Python 3 (ipykernel)",
   "language": "python",
   "name": "python3"
  },
  "language_info": {
   "codemirror_mode": {
    "name": "ipython",
    "version": 3
   },
   "file_extension": ".py",
   "mimetype": "text/x-python",
   "name": "python",
   "nbconvert_exporter": "python",
   "pygments_lexer": "ipython3",
   "version": "3.10.9"
  }
 },
 "nbformat": 4,
 "nbformat_minor": 5
}
